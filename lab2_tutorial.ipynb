{
 "cells": [
  {
   "cell_type": "markdown",
   "metadata": {},
   "source": [
    "# Data Loading tutorial"
   ]
  },
  {
   "cell_type": "markdown",
   "metadata": {},
   "source": [
    "To add the competition data Click File->Add or Upload data-> Search by URL -> https://www.kaggle.com/geoparslp/patreco3-multitask-affective-music"
   ]
  },
  {
   "cell_type": "code",
   "execution_count": 1,
   "metadata": {
    "ExecuteTime": {
     "end_time": "2024-11-27T19:11:12.084842Z",
     "start_time": "2024-11-27T19:11:11.778662Z"
    },
    "_cell_guid": "b1076dfc-b9ad-4769-8c92-a6c4dae69d19",
    "_uuid": "8f2839f25d086af736a60e9eeb907d3b93b6e0e5",
    "execution": {
     "iopub.execute_input": "2024-11-21T07:24:32.469846Z",
     "iopub.status.busy": "2024-11-21T07:24:32.469608Z",
     "iopub.status.idle": "2024-11-21T07:24:41.218293Z",
     "shell.execute_reply": "2024-11-21T07:24:41.217570Z",
     "shell.execute_reply.started": "2024-11-21T07:24:32.469779Z"
    },
    "trusted": true
   },
   "outputs": [],
   "source": [
    "# This Python 3 environment comes with many helpful analytics libraries installed\n",
    "# It is defined by the kaggle/python Docker image: https://github.com/kaggle/docker-python\n",
    "# For example, here's several helpful packages to load\n",
    "\n",
    "import numpy as np # linear algebra\n",
    "import pandas as pd # data processing, CSV file I/O (e.g. pd.read_csv)\n",
    "\n",
    "# Input data files are available in the read-only \"../input/\" directory\n",
    "# For example, running this (by clicking run or pressing Shift+Enter) will list all files under the input directory\n",
    "\n",
    "import os\n",
    "for dirname, _, filenames in os.walk('/kaggle/input'):\n",
    "    for filename in filenames[:1]:\n",
    "        print(os.path.join(dirname, filename))\n",
    "\n",
    "# You can write up to 20GB to the current directory (/kaggle/working/) that gets preserved as output when you create a version using \"Save & Run All\" \n",
    "# You can also write temporary files to /kaggle/temp/, but they won't be saved outside of the current session"
   ]
  },
  {
   "cell_type": "code",
   "execution_count": 11,
   "metadata": {
    "ExecuteTime": {
     "end_time": "2024-11-27T19:30:22.778450Z",
     "start_time": "2024-11-27T19:30:22.769886Z"
    },
    "execution": {
     "iopub.execute_input": "2024-11-21T07:24:41.219779Z",
     "iopub.status.busy": "2024-11-21T07:24:41.219581Z",
     "iopub.status.idle": "2024-11-21T07:24:42.779712Z",
     "shell.execute_reply": "2024-11-21T07:24:42.779076Z",
     "shell.execute_reply.started": "2024-11-21T07:24:41.219754Z"
    },
    "trusted": true
   },
   "outputs": [
    {
     "name": "stdout",
     "output_type": "stream",
     "text": [
      "The repository 'patrec-labs' is already cloned.\n"
     ]
    }
   ],
   "source": [
    "import os\n",
    "\n",
    "# Define the repository URL and the folder name\n",
    "repo_url = \"https://github.com/slp-ntua/patrec-labs.git\"\n",
    "folder_name = \"patrec-labs\"\n",
    "\n",
    "# Check if the directory already exists\n",
    "if not os.path.exists(folder_name):\n",
    "    !git clone {repo_url}\n",
    "else:\n",
    "    print(f\"The repository '{folder_name}' is already cloned.\")"
   ]
  },
  {
   "cell_type": "code",
   "execution_count": 14,
   "metadata": {
    "ExecuteTime": {
     "end_time": "2024-11-27T19:31:33.610966Z",
     "start_time": "2024-11-27T19:31:33.605199Z"
    },
    "execution": {
     "iopub.execute_input": "2024-11-21T07:24:42.781517Z",
     "iopub.status.busy": "2024-11-21T07:24:42.781228Z",
     "iopub.status.idle": "2024-11-21T07:24:42.785797Z",
     "shell.execute_reply": "2024-11-21T07:24:42.785041Z",
     "shell.execute_reply.started": "2024-11-21T07:24:42.781480Z"
    },
    "trusted": true
   },
   "outputs": [],
   "source": [
    "import sys\n",
    "import os\n",
    "\n",
    "# Get the absolute path of the cloned 'patrec-labs' folder\n",
    "repo_path = os.path.join(os.getcwd(), folder_name, 'lab3')\n",
    "\n",
    "# Add the 'lab3' folder path to the system path\n",
    "sys.path.append(repo_path)"
   ]
  },
  {
   "cell_type": "code",
   "execution_count": 15,
   "metadata": {
    "ExecuteTime": {
     "end_time": "2024-11-27T19:31:37.368051Z",
     "start_time": "2024-11-27T19:31:35.303271Z"
    },
    "execution": {
     "iopub.execute_input": "2024-11-21T07:24:43.786314Z",
     "iopub.status.busy": "2024-11-21T07:24:43.786014Z",
     "iopub.status.idle": "2024-11-21T07:25:51.272040Z",
     "shell.execute_reply": "2024-11-21T07:25:51.271176Z",
     "shell.execute_reply.started": "2024-11-21T07:24:43.786271Z"
    },
    "trusted": true
   },
   "outputs": [
    {
     "name": "stdout",
     "output_type": "stream",
     "text": [
      "\u001b[31mERROR: Ignored the following versions that require a different python version: 1.21.2 Requires-Python >=3.7,<3.11; 1.21.3 Requires-Python >=3.7,<3.11; 1.21.4 Requires-Python >=3.7,<3.11; 1.21.5 Requires-Python >=3.7,<3.11; 1.21.6 Requires-Python >=3.7,<3.11\u001b[0m\u001b[31m\r\n",
      "\u001b[0m\u001b[31mERROR: Could not find a version that satisfies the requirement numpy==1.21.6 (from versions: 1.3.0, 1.4.1, 1.5.0, 1.5.1, 1.6.0, 1.6.1, 1.6.2, 1.7.0, 1.7.1, 1.7.2, 1.8.0, 1.8.1, 1.8.2, 1.9.0, 1.9.1, 1.9.2, 1.9.3, 1.10.0.post2, 1.10.1, 1.10.2, 1.10.4, 1.11.0, 1.11.1, 1.11.2, 1.11.3, 1.12.0, 1.12.1, 1.13.0, 1.13.1, 1.13.3, 1.14.0, 1.14.1, 1.14.2, 1.14.3, 1.14.4, 1.14.5, 1.14.6, 1.15.0, 1.15.1, 1.15.2, 1.15.3, 1.15.4, 1.16.0, 1.16.1, 1.16.2, 1.16.3, 1.16.4, 1.16.5, 1.16.6, 1.17.0, 1.17.1, 1.17.2, 1.17.3, 1.17.4, 1.17.5, 1.18.0, 1.18.1, 1.18.2, 1.18.3, 1.18.4, 1.18.5, 1.19.0, 1.19.1, 1.19.2, 1.19.3, 1.19.4, 1.19.5, 1.20.0, 1.20.1, 1.20.2, 1.20.3, 1.21.0, 1.21.1, 1.22.0, 1.22.1, 1.22.2, 1.22.3, 1.22.4, 1.23.0, 1.23.1, 1.23.2, 1.23.3, 1.23.4, 1.23.5, 1.24.0, 1.24.1, 1.24.2, 1.24.3, 1.24.4, 1.25.0, 1.25.1, 1.25.2, 1.26.0, 1.26.1, 1.26.2, 1.26.3, 1.26.4, 2.0.0, 2.0.1, 2.0.2, 2.1.0rc1, 2.1.0, 2.1.1, 2.1.2, 2.1.3, 2.2.0rc1)\u001b[0m\u001b[31m\r\n",
      "\u001b[0m\u001b[31mERROR: No matching distribution found for numpy==1.21.6\u001b[0m\u001b[31m\r\n",
      "\u001b[0m"
     ]
    }
   ],
   "source": [
    "# install requirements\n",
    "!pip install -r patrec-labs/lab3/requirements.txt"
   ]
  },
  {
   "cell_type": "markdown",
   "metadata": {},
   "source": [
    "### Load a sample file"
   ]
  },
  {
   "cell_type": "code",
   "execution_count": 6,
   "metadata": {
    "_cell_guid": "79c7e3d0-c299-4dcb-8224-4455121ee9b0",
    "_uuid": "d629ff2d2480ee46fbb7e2d37f6b5fab8052498a",
    "execution": {
     "iopub.execute_input": "2024-11-21T07:25:51.273785Z",
     "iopub.status.busy": "2024-11-21T07:25:51.273563Z",
     "iopub.status.idle": "2024-11-21T07:25:51.306155Z",
     "shell.execute_reply": "2024-11-21T07:25:51.305479Z",
     "shell.execute_reply.started": "2024-11-21T07:25:51.273758Z"
    },
    "trusted": true
   },
   "outputs": [],
   "source": [
    "spec = np.load('/kaggle/input/patreco3-multitask-affective-music/data/fma_genre_spectrograms/train/80238.fused.full.npy')"
   ]
  },
  {
   "cell_type": "markdown",
   "metadata": {},
   "source": [
    "This is a fused spectrogram + chromagram. The shape is (mel + chroma frequencies, timesteps)"
   ]
  },
  {
   "cell_type": "code",
   "execution_count": 7,
   "metadata": {
    "execution": {
     "iopub.execute_input": "2024-11-21T07:25:51.307467Z",
     "iopub.status.busy": "2024-11-21T07:25:51.307220Z",
     "iopub.status.idle": "2024-11-21T07:25:51.312012Z",
     "shell.execute_reply": "2024-11-21T07:25:51.311345Z",
     "shell.execute_reply.started": "2024-11-21T07:25:51.307433Z"
    },
    "trusted": true
   },
   "outputs": [
    {
     "name": "stdout",
     "output_type": "stream",
     "text": [
      "(140, 1293)\n"
     ]
    }
   ],
   "source": [
    "print(spec.shape)  # (frequencies x time steps)"
   ]
  },
  {
   "cell_type": "markdown",
   "metadata": {},
   "source": [
    "To decompose into the mel spectrogram and chromagram you can run:"
   ]
  },
  {
   "cell_type": "code",
   "execution_count": 8,
   "metadata": {
    "execution": {
     "iopub.execute_input": "2024-11-21T07:25:51.313166Z",
     "iopub.status.busy": "2024-11-21T07:25:51.312966Z",
     "iopub.status.idle": "2024-11-21T07:25:51.322808Z",
     "shell.execute_reply": "2024-11-21T07:25:51.322164Z",
     "shell.execute_reply.started": "2024-11-21T07:25:51.313142Z"
    },
    "trusted": true
   },
   "outputs": [],
   "source": [
    "mel, chroma = spec[:128], spec[128:]"
   ]
  },
  {
   "cell_type": "code",
   "execution_count": 9,
   "metadata": {
    "execution": {
     "iopub.execute_input": "2024-11-21T07:25:51.323991Z",
     "iopub.status.busy": "2024-11-21T07:25:51.323764Z",
     "iopub.status.idle": "2024-11-21T07:25:51.332291Z",
     "shell.execute_reply": "2024-11-21T07:25:51.331639Z",
     "shell.execute_reply.started": "2024-11-21T07:25:51.323958Z"
    },
    "trusted": true
   },
   "outputs": [
    {
     "name": "stdout",
     "output_type": "stream",
     "text": [
      "(128, 1293) (12, 1293)\n"
     ]
    }
   ],
   "source": [
    "print(mel.shape, chroma.shape)"
   ]
  },
  {
   "cell_type": "code",
   "execution_count": 10,
   "metadata": {
    "execution": {
     "iopub.execute_input": "2024-11-21T07:25:51.334877Z",
     "iopub.status.busy": "2024-11-21T07:25:51.334558Z",
     "iopub.status.idle": "2024-11-21T07:25:53.859232Z",
     "shell.execute_reply": "2024-11-21T07:25:53.858512Z",
     "shell.execute_reply.started": "2024-11-21T07:25:51.334846Z"
    },
    "trusted": true
   },
   "outputs": [
    {
     "data": {
      "text/plain": [
       "<matplotlib.colorbar.Colorbar at 0x7c4a1f4c5990>"
      ]
     },
     "execution_count": 10,
     "metadata": {},
     "output_type": "execute_result"
    },
    {
     "data": {
      "image/png": "[encoded data removed]",
      "text/plain": [
       "<Figure size 432x288 with 2 Axes>"
      ]
     },
     "metadata": {
      "needs_background": "light"
     },
     "output_type": "display_data"
    },
    {
     "data": {
      "image/png": "[encoded data removed]",
      "text/plain": [
       "<Figure size 432x288 with 2 Axes>"
      ]
     },
     "metadata": {
      "needs_background": "light"
     },
     "output_type": "display_data"
    }
   ],
   "source": [
    "# Plot the spectrogram and the chromagram\n",
    "\n",
    "import librosa.display\n",
    "import matplotlib.pyplot as plt\n",
    "\n",
    "fig, ax = plt.subplots()\n",
    "img = librosa.display.specshow(mel, x_axis='time', y_axis='linear', ax=ax)\n",
    "ax.set(title='Spectrogram')\n",
    "fig.colorbar(img, ax=ax, format=\"%+2.f dB\")\n",
    "\n",
    "\n",
    "fig, ax = plt.subplots()\n",
    "img = librosa.display.specshow(chroma, y_axis='chroma', x_axis='time', ax=ax)\n",
    "ax.set(title='Chromagram')\n",
    "fig.colorbar(img, ax=ax)"
   ]
  },
  {
   "cell_type": "markdown",
   "metadata": {},
   "source": [
    "## Creating Pytorch Datasets"
   ]
  },
  {
   "cell_type": "markdown",
   "metadata": {},
   "source": [
    "We import the necessary modules from the helper code evident at the respective repository:"
   ]
  },
  {
   "cell_type": "code",
   "execution_count": 11,
   "metadata": {
    "execution": {
     "iopub.execute_input": "2024-11-21T07:25:53.861044Z",
     "iopub.status.busy": "2024-11-21T07:25:53.860432Z",
     "iopub.status.idle": "2024-11-21T07:25:54.337668Z",
     "shell.execute_reply": "2024-11-21T07:25:54.336910Z",
     "shell.execute_reply.started": "2024-11-21T07:25:53.860999Z"
    },
    "trusted": true
   },
   "outputs": [],
   "source": [
    "from dataset import SpectrogramDataset, CLASS_MAPPING, torch_train_val_split"
   ]
  },
  {
   "cell_type": "markdown",
   "metadata": {},
   "source": [
    "### Initialize a pytorch dataset for beat synced mel spectrograms"
   ]
  },
  {
   "cell_type": "code",
   "execution_count": 12,
   "metadata": {
    "execution": {
     "iopub.execute_input": "2024-11-21T07:25:54.339415Z",
     "iopub.status.busy": "2024-11-21T07:25:54.338847Z",
     "iopub.status.idle": "2024-11-21T07:26:04.372698Z",
     "shell.execute_reply": "2024-11-21T07:26:04.372081Z",
     "shell.execute_reply.started": "2024-11-21T07:25:54.339377Z"
    },
    "trusted": true
   },
   "outputs": [],
   "source": [
    "beat_mel_specs = SpectrogramDataset(\n",
    "     '../input/patreco3-multitask-affective-music/data/fma_genre_spectrograms_beat/', class_mapping=CLASS_MAPPING, \n",
    "    train=True, feat_type='mel', max_length=-1\n",
    ")\n",
    "    \n",
    "train_loader_beat_mel, val_loader_beat_mel = torch_train_val_split(beat_mel_specs, 32 ,32, val_size=.33)"
   ]
  },
  {
   "cell_type": "markdown",
   "metadata": {},
   "source": [
    "Lets see an example sample from the dataset"
   ]
  },
  {
   "cell_type": "code",
   "execution_count": 13,
   "metadata": {
    "execution": {
     "iopub.execute_input": "2024-11-21T07:26:04.373810Z",
     "iopub.status.busy": "2024-11-21T07:26:04.373609Z",
     "iopub.status.idle": "2024-11-21T07:26:04.390034Z",
     "shell.execute_reply": "2024-11-21T07:26:04.389198Z",
     "shell.execute_reply.started": "2024-11-21T07:26:04.373785Z"
    },
    "trusted": true
   },
   "outputs": [
    {
     "name": "stdout",
     "output_type": "stream",
     "text": [
      "Data shape\n",
      "torch.Size([32, 129, 128])\n",
      "Labels\n",
      "tensor([1, 4, 3, 6, 8, 6, 3, 3, 3, 7, 4, 5, 0, 5, 4, 3, 4, 5, 9, 9, 7, 8, 1, 6,\n",
      "        2, 2, 1, 5, 8, 8, 5, 8])\n",
      "Lengths\n",
      "tensor([ 53,  58,  26,  79,  65,  73,  95,  70,  71,  51,  47,  54,  43,  66,\n",
      "         85,  54,  41,  46,  86,  45,  70, 106,  54,  74,  54,  49,  83,  49,\n",
      "         29,  62,  48,  66])\n"
     ]
    }
   ],
   "source": [
    "datum = next(iter(train_loader_beat_mel))\n",
    "print('Data shape')\n",
    "print(datum[0].shape)  # shape of data\n",
    "print('Labels')\n",
    "print(datum[1])  # labels in batch\n",
    "print('Lengths')\n",
    "print(datum[2])  # length of each element in batch"
   ]
  },
  {
   "cell_type": "markdown",
   "metadata": {},
   "source": [
    "#### Initialize a pytorch dataset for beat synced chromagrams\n"
   ]
  },
  {
   "cell_type": "code",
   "execution_count": 14,
   "metadata": {
    "execution": {
     "iopub.execute_input": "2024-11-21T07:26:04.391201Z",
     "iopub.status.busy": "2024-11-21T07:26:04.391010Z",
     "iopub.status.idle": "2024-11-21T07:26:06.649888Z",
     "shell.execute_reply": "2024-11-21T07:26:06.649347Z",
     "shell.execute_reply.started": "2024-11-21T07:26:04.391180Z"
    },
    "trusted": true
   },
   "outputs": [],
   "source": [
    "beat_chroma = SpectrogramDataset(\n",
    "     '../input/patreco3-multitask-affective-music/data/fma_genre_spectrograms_beat/', class_mapping=CLASS_MAPPING, \n",
    "    train=True, feat_type='chroma', max_length=-1\n",
    ")\n",
    "    \n",
    "train_loader_beat_chroma, val_loader_beat_chroma = torch_train_val_split(beat_chroma, 32 ,32, val_size=.33)"
   ]
  },
  {
   "cell_type": "markdown",
   "metadata": {},
   "source": [
    "Lets see an example sample from the beat chroma dataset"
   ]
  },
  {
   "cell_type": "code",
   "execution_count": 15,
   "metadata": {
    "execution": {
     "iopub.execute_input": "2024-11-21T07:26:06.651081Z",
     "iopub.status.busy": "2024-11-21T07:26:06.650870Z",
     "iopub.status.idle": "2024-11-21T07:26:06.661447Z",
     "shell.execute_reply": "2024-11-21T07:26:06.660697Z",
     "shell.execute_reply.started": "2024-11-21T07:26:06.651057Z"
    },
    "trusted": true
   },
   "outputs": [
    {
     "name": "stdout",
     "output_type": "stream",
     "text": [
      "Data shape\n",
      "torch.Size([32, 129, 12])\n",
      "Labels\n",
      "tensor([0, 1, 1, 8, 8, 9, 3, 4, 9, 9, 9, 5, 2, 3, 8, 6, 2, 6, 1, 3, 2, 1, 6, 6,\n",
      "        2, 5, 8, 2, 9, 1, 3, 4])\n",
      "Lengths\n",
      "tensor([ 57,  39, 107,  46,  62,  49,  58,  47,  38,  44,  42,  45,  60,  53,\n",
      "         65,  70,  68,  46,  67,  46,  51,  54,  55,  79,  62,  34,  67,  73,\n",
      "         47,  65,  33,  48])\n"
     ]
    }
   ],
   "source": [
    "datum = next(iter(train_loader_beat_chroma))\n",
    "print('Data shape')\n",
    "print(datum[0].shape)  # shape of data\n",
    "print('Labels')\n",
    "print(datum[1])  # labels in batch\n",
    "print('Lengths')\n",
    "print(datum[2])  # length of each element in batch"
   ]
  },
  {
   "cell_type": "markdown",
   "metadata": {},
   "source": [
    "#### Initialize a pytorch dataset for the fused spectrogram + chromagram for the full (non-beat-synced) data\n"
   ]
  },
  {
   "cell_type": "code",
   "execution_count": 16,
   "metadata": {
    "execution": {
     "iopub.execute_input": "2024-11-21T07:26:06.662567Z",
     "iopub.status.busy": "2024-11-21T07:26:06.662412Z",
     "iopub.status.idle": "2024-11-21T07:26:34.917545Z",
     "shell.execute_reply": "2024-11-21T07:26:34.916910Z",
     "shell.execute_reply.started": "2024-11-21T07:26:06.662549Z"
    },
    "trusted": true
   },
   "outputs": [],
   "source": [
    "specs_fused = SpectrogramDataset(\n",
    "     '../input/patreco3-multitask-affective-music/data/fma_genre_spectrograms/', class_mapping=CLASS_MAPPING, \n",
    "    train=True, feat_type='fused', max_length=-1\n",
    ")\n",
    "\n",
    "train_loader, val_loader = torch_train_val_split(specs_fused, 32 ,32, val_size=.33)"
   ]
  },
  {
   "cell_type": "code",
   "execution_count": 17,
   "metadata": {
    "execution": {
     "iopub.execute_input": "2024-11-21T07:26:34.918704Z",
     "iopub.status.busy": "2024-11-21T07:26:34.918493Z",
     "iopub.status.idle": "2024-11-21T07:26:34.984660Z",
     "shell.execute_reply": "2024-11-21T07:26:34.983809Z",
     "shell.execute_reply.started": "2024-11-21T07:26:34.918681Z"
    },
    "trusted": true
   },
   "outputs": [
    {
     "name": "stdout",
     "output_type": "stream",
     "text": [
      "Data shape\n",
      "torch.Size([32, 1293, 140])\n",
      "Labels\n",
      "tensor([4, 6, 7, 0, 0, 9, 2, 2, 0, 0, 0, 8, 6, 6, 1, 6, 3, 2, 3, 8, 3, 2, 9, 3,\n",
      "        5, 8, 2, 2, 8, 8, 8, 7])\n",
      "Lengths\n",
      "tensor([1293, 1291, 1293, 1292, 1291, 1291, 1293, 1291, 1293, 1291, 1291, 1291,\n",
      "        1293, 1293, 1291, 1291, 1293, 1291, 1291, 1291, 1291, 1291, 1291, 1291,\n",
      "        1291, 1293, 1293, 1291, 1291, 1292, 1293, 1291])\n"
     ]
    }
   ],
   "source": [
    "datum = next(iter(train_loader))\n",
    "print('Data shape')\n",
    "print(datum[0].shape)  # shape of data\n",
    "print('Labels')\n",
    "print(datum[1])  # labels in batch\n",
    "print('Lengths')\n",
    "print(datum[2])  # length of each element in batch"
   ]
  },
  {
   "cell_type": "code",
   "execution_count": 18,
   "metadata": {
    "execution": {
     "iopub.execute_input": "2024-11-21T07:26:34.987638Z",
     "iopub.status.busy": "2024-11-21T07:26:34.987428Z",
     "iopub.status.idle": "2024-11-21T07:26:39.775748Z",
     "shell.execute_reply": "2024-11-21T07:26:39.774876Z",
     "shell.execute_reply.started": "2024-11-21T07:26:34.987613Z"
    },
    "trusted": true
   },
   "outputs": [
    {
     "name": "stdout",
     "output_type": "stream",
     "text": [
      "(array([[-52.26681477, -52.71678237, -52.83256794, ..., -80.        ,\n",
      "        -80.        , -80.        ],\n",
      "       [-45.12944043, -49.20641678, -51.77639735, ..., -80.        ,\n",
      "        -80.        , -80.        ],\n",
      "       [-44.2435711 , -42.88079978, -46.60278858, ..., -80.        ,\n",
      "        -80.        , -80.        ],\n",
      "       ...,\n",
      "       [-38.86648128, -42.70998466, -46.1181    , ..., -58.58672545,\n",
      "        -61.70087117, -63.41518897],\n",
      "       [  0.        ,   0.        ,   0.        , ...,   0.        ,\n",
      "          0.        ,   0.        ],\n",
      "       [  0.        ,   0.        ,   0.        , ...,   0.        ,\n",
      "          0.        ,   0.        ]]), 0, 1291)\n",
      "Input: (1293, 128)\n",
      "Label: 0\n",
      "Original length: 1291\n"
     ]
    }
   ],
   "source": [
    "# Step 4: Data loading and analysis\n",
    "from dataset import CLASS_MAPPING, SpectrogramDataset\n",
    "\n",
    "PARENT_DATA_DIR = '../input/patreco3-multitask-affective-music/data/'\n",
    "\n",
    "train_dataset = SpectrogramDataset(\n",
    "    os.path.join(PARENT_DATA_DIR, 'fma_genre_spectrograms'), class_mapping=CLASS_MAPPING, train=True\n",
    ")\n",
    "\n",
    "print(train_dataset[10])\n",
    "print(f\"Input: {train_dataset[10][0].shape}\")\n",
    "print(f\"Label: {train_dataset[10][1]}\")\n",
    "print(f\"Original length: {train_dataset[10][2]}\")"
   ]
  },
  {
   "cell_type": "code",
   "execution_count": 19,
   "metadata": {
    "execution": {
     "iopub.execute_input": "2024-11-21T07:26:39.777145Z",
     "iopub.status.busy": "2024-11-21T07:26:39.776867Z",
     "iopub.status.idle": "2024-11-21T07:26:39.782011Z",
     "shell.execute_reply": "2024-11-21T07:26:39.781161Z",
     "shell.execute_reply.started": "2024-11-21T07:26:39.777091Z"
    },
    "trusted": true
   },
   "outputs": [],
   "source": [
    "def plot_class_histogram(dataset, title):\n",
    "    plt.figure()\n",
    "    plt.hist(dataset.labels, rwidth=0.5, align='mid')\n",
    "    plt.xticks(dataset.labels, dataset.labels.astype(str))\n",
    "    plt.title(title)\n",
    "    plt.xlabel('Class Labels')\n",
    "    plt.ylabel('Frequencies')"
   ]
  },
  {
   "cell_type": "code",
   "execution_count": 20,
   "metadata": {
    "execution": {
     "iopub.execute_input": "2024-11-21T07:26:49.709455Z",
     "iopub.status.busy": "2024-11-21T07:26:49.708940Z",
     "iopub.status.idle": "2024-11-21T07:26:56.932453Z",
     "shell.execute_reply": "2024-11-21T07:26:56.931728Z",
     "shell.execute_reply.started": "2024-11-21T07:26:49.709419Z"
    },
    "trusted": true
   },
   "outputs": [
    {
     "data": {
      "image/png": "[encoded data removed]",
      "text/plain": [
       "<Figure size 432x288 with 1 Axes>"
      ]
     },
     "metadata": {
      "needs_background": "light"
     },
     "output_type": "display_data"
    }
   ],
   "source": [
    "plot_class_histogram(train_dataset, title='Histogram of classes with merged classes')"
   ]
  },
  {
   "cell_type": "code",
   "execution_count": 21,
   "metadata": {
    "execution": {
     "iopub.execute_input": "2024-11-21T07:27:06.401203Z",
     "iopub.status.busy": "2024-11-21T07:27:06.400700Z",
     "iopub.status.idle": "2024-11-21T07:27:36.253315Z",
     "shell.execute_reply": "2024-11-21T07:27:36.252568Z",
     "shell.execute_reply.started": "2024-11-21T07:27:06.401168Z"
    },
    "trusted": true
   },
   "outputs": [
    {
     "data": {
      "image/png": "[encoded data removed]",
      "text/plain": [
       "<Figure size 432x288 with 1 Axes>"
      ]
     },
     "metadata": {
      "needs_background": "light"
     },
     "output_type": "display_data"
    }
   ],
   "source": [
    "train_dataset_all = SpectrogramDataset(\n",
    "    os.path.join(PARENT_DATA_DIR, 'fma_genre_spectrograms'), class_mapping=None, train=True\n",
    ")\n",
    "plot_class_histogram(train_dataset_all, title='Histogram of classes with all classes')"
   ]
  },
  {
   "cell_type": "code",
   "execution_count": 23,
   "metadata": {
    "execution": {
     "iopub.execute_input": "2024-11-21T07:37:38.148908Z",
     "iopub.status.busy": "2024-11-21T07:37:38.148267Z",
     "iopub.status.idle": "2024-11-21T07:37:42.831062Z",
     "shell.execute_reply": "2024-11-21T07:37:42.830415Z",
     "shell.execute_reply.started": "2024-11-21T07:37:38.148879Z"
    },
    "trusted": true
   },
   "outputs": [
    {
     "name": "stdout",
     "output_type": "stream",
     "text": [
      "torch.Size([150, 128])\n"
     ]
    }
   ],
   "source": [
    "# dataloaders for specific features type, e.g. 'mel'\n",
    "BATCH_SIZE = 8\n",
    "MAX_LENGTH = 150\n",
    "DEVICE = 'cuda'\n",
    "\n",
    "train_dataset = SpectrogramDataset(\n",
    "    os.path.join(PARENT_DATA_DIR, 'fma_genre_spectrograms'), class_mapping=CLASS_MAPPING, \n",
    "    train=True, feat_type='mel', max_length=MAX_LENGTH\n",
    ")\n",
    "\n",
    "train_loader, val_loader = torch_train_val_split(\n",
    "    train_dataset, BATCH_SIZE, BATCH_SIZE\n",
    ")\n",
    "\n",
    "# get the 1st batch values of the data loader\n",
    "x_b1, y_b1, lengths_b1 = next(iter(train_loader))\n",
    "\n",
    "# print the shape of the 1st item of the 1st batch of the data loader\n",
    "input_shape = x_b1[0].shape\n",
    "print(input_shape)"
   ]
  },
  {
   "cell_type": "code",
   "execution_count": 28,
   "metadata": {
    "execution": {
     "iopub.execute_input": "2024-11-21T07:51:03.861257Z",
     "iopub.status.busy": "2024-11-21T07:51:03.860964Z",
     "iopub.status.idle": "2024-11-21T07:51:03.867552Z",
     "shell.execute_reply": "2024-11-21T07:51:03.866680Z",
     "shell.execute_reply.started": "2024-11-21T07:51:03.861232Z"
    },
    "trusted": true
   },
   "outputs": [],
   "source": [
    "# we need EarlyStopping that we'll adopt from: https://stackoverflow.com/a/73704579/19306080 and add some customizations\n",
    "\n",
    "class EarlyStopper:\n",
    "    def __init__(self, model, save_path, patience=1, min_delta=0):\n",
    "        self.model = model\n",
    "        self.save_path = save_path\n",
    "        self.patience = patience\n",
    "        self.min_delta = min_delta\n",
    "        self.counter = 0\n",
    "        self.min_validation_loss = np.inf\n",
    "\n",
    "    def early_stop(self, validation_loss):\n",
    "        if validation_loss < self.min_validation_loss:\n",
    "            self.min_validation_loss = validation_loss\n",
    "            self.counter = 0\n",
    "            torch.save(self.model.state_dict(), self.save_path)\n",
    "        elif validation_loss > (self.min_validation_loss + self.min_delta):\n",
    "            self.counter += 1\n",
    "            if self.counter >= self.patience:\n",
    "                return True\n",
    "        return False"
   ]
  },
  {
   "cell_type": "code",
   "execution_count": 33,
   "metadata": {
    "execution": {
     "iopub.execute_input": "2024-11-21T07:53:05.896703Z",
     "iopub.status.busy": "2024-11-21T07:53:05.896448Z",
     "iopub.status.idle": "2024-11-21T07:53:05.903148Z",
     "shell.execute_reply": "2024-11-21T07:53:05.902437Z",
     "shell.execute_reply.started": "2024-11-21T07:53:05.896675Z"
    },
    "trusted": true
   },
   "outputs": [],
   "source": [
    "# implemetation of the training process\n",
    "\n",
    "def train_one_epoch(model, train_loader, optimizer, device=DEVICE):\n",
    "    model.train()\n",
    "    total_loss = 0\n",
    "    for x, y, lengths in train_loader:        \n",
    "        loss, logits = model(x.float().to(device), y.to(device), lengths.to(device))\n",
    "        # prepare\n",
    "        optimizer.zero_grad()\n",
    "        # backward\n",
    "        loss.backward()\n",
    "        # optimizer step\n",
    "        optimizer.step()\n",
    "        total_loss += loss.item()\n",
    "    \n",
    "    avg_loss = total_loss / len(train_loader)    \n",
    "    return avg_loss\n",
    "\n",
    "\n",
    "def validate_one_epoch(model, val_loader, device=DEVICE):    \n",
    "    model.eval()\n",
    "    total_loss = 0\n",
    "    with torch.no_grad():\n",
    "        for x, y, lengths in val_loader:\n",
    "            loss, logits = model(x.float().to(device), y.to(device), lengths.to(device))\n",
    "            total_loss += loss.item()\n",
    "    \n",
    "    avg_loss = total_loss / len(val_loader)    \n",
    "    return avg_loss\n"
   ]
  },
  {
   "cell_type": "code",
   "execution_count": 34,
   "metadata": {
    "execution": {
     "iopub.execute_input": "2024-11-21T07:53:07.743720Z",
     "iopub.status.busy": "2024-11-21T07:53:07.743207Z",
     "iopub.status.idle": "2024-11-21T07:53:07.751933Z",
     "shell.execute_reply": "2024-11-21T07:53:07.751176Z",
     "shell.execute_reply.started": "2024-11-21T07:53:07.743688Z"
    },
    "trusted": true
   },
   "outputs": [],
   "source": [
    "import torch\n",
    "import torch.nn as nn\n",
    "\n",
    "def overfit_with_a_couple_of_batches(model, train_loader, optimizer, device):\n",
    "    print('Training in overfitting mode...')\n",
    "    epochs = 400\n",
    "    \n",
    "    # get only the 1st batch\n",
    "    x_b1, y_b1, lengths_b1 = next(iter(train_loader))    \n",
    "    model.train()\n",
    "    for epoch in range(epochs):        \n",
    "        loss, logits = model(x_b1.float().to(device), y_b1.to(device), lengths_b1.to(device))\n",
    "        # prepare\n",
    "        optimizer.zero_grad()\n",
    "        # backward\n",
    "        loss.backward()\n",
    "        # optimizer step\n",
    "        optimizer.step()\n",
    "\n",
    "        if epoch == 0 or (epoch+1)%20 == 0:\n",
    "            print(f'Epoch {epoch+1}, Loss at training set: {loss.item()}')\n",
    "\n",
    "def train(model, train_loader, val_loader, optimizer, epochs, save_path='checkpoint.pth', device=\"cuda\", overfit_batch=False):\n",
    "    if overfit_batch:\n",
    "        overfit_with_a_couple_of_batches(model, train_loader, optimizer, device)\n",
    "    else:\n",
    "        print(f'Training started for model {save_path.replace(\".pth\", \"\")}...')\n",
    "        early_stopper = EarlyStopper(model, save_path, patience=5)\n",
    "        for epoch in range(epochs):\n",
    "            train_loss = train_one_epoch(model, train_loader, optimizer)\n",
    "            validation_loss = validate_one_epoch(model, val_loader)\n",
    "            if epoch== 0 or (epoch+1)%5==0:\n",
    "                print(f'Epoch {epoch+1}/{epochs}, Loss at training set: {train_loss}\\n\\tLoss at validation set: {validation_loss}')          \n",
    "            \n",
    "            if early_stopper.early_stop(validation_loss):\n",
    "                print('Early Stopping was activated.')\n",
    "                print(f'Epoch {epoch+1}/{epochs}, Loss at training set: {train_loss}\\n\\tLoss at validation set: {validation_loss}')\n",
    "                print('Training has been completed.\\n')\n",
    "                break"
   ]
  },
  {
   "cell_type": "code",
   "execution_count": 35,
   "metadata": {
    "execution": {
     "iopub.execute_input": "2024-11-21T07:53:10.599454Z",
     "iopub.status.busy": "2024-11-21T07:53:10.599194Z",
     "iopub.status.idle": "2024-11-21T07:53:10.605760Z",
     "shell.execute_reply": "2024-11-21T07:53:10.604930Z",
     "shell.execute_reply.started": "2024-11-21T07:53:10.599427Z"
    },
    "trusted": true
   },
   "outputs": [],
   "source": [
    "class Classifier(nn.Module):\n",
    "    def __init__(self, num_classes, backbone, load_from_checkpoint=None):\n",
    "        \"\"\"\n",
    "        backbone (nn.Module): The nn.Module to use for spectrogram parsing\n",
    "        num_classes (int): The number of classes\n",
    "        load_from_checkpoint (Optional[str]): Use a pretrained checkpoint to initialize the model\n",
    "        \"\"\"\n",
    "        super(Classifier, self).__init__()\n",
    "        self.backbone = backbone  # An LSTMBackbone or CNNBackbone\n",
    "        if load_from_checkpoint is not None:\n",
    "            self.backbone = load_backbone_from_checkpoint(\n",
    "                self.backbone, load_from_checkpoint\n",
    "            )\n",
    "        self.is_lstm = isinstance(self.backbone, LSTMBackbone)\n",
    "        self.output_layer = nn.Linear(self.backbone.feature_size, num_classes)\n",
    "        self.criterion = nn.CrossEntropyLoss()  # Loss function for classification\n",
    "\n",
    "    def forward(self, x, targets, lengths):\n",
    "        feats = self.backbone(x) if not self.is_lstm else self.backbone(x, lengths)\n",
    "        logits = self.output_layer(feats)\n",
    "        loss = self.criterion(logits, targets)\n",
    "        return loss, logits"
   ]
  },
  {
   "cell_type": "code",
   "execution_count": 31,
   "metadata": {
    "execution": {
     "iopub.execute_input": "2024-11-21T07:51:53.537007Z",
     "iopub.status.busy": "2024-11-21T07:51:53.536454Z",
     "iopub.status.idle": "2024-11-21T07:52:03.501126Z",
     "shell.execute_reply": "2024-11-21T07:52:03.500292Z",
     "shell.execute_reply.started": "2024-11-21T07:51:53.536973Z"
    },
    "trusted": true
   },
   "outputs": [
    {
     "name": "stdout",
     "output_type": "stream",
     "text": [
      "Training in overfitting mode...\n",
      "Epoch 1, Loss at training set: 2.2925045490264893\n",
      "Epoch 20, Loss at training set: 2.0428879261016846\n",
      "Epoch 40, Loss at training set: 1.8118970394134521\n",
      "Epoch 60, Loss at training set: 1.5719000101089478\n",
      "Epoch 80, Loss at training set: 1.3331295251846313\n",
      "Epoch 100, Loss at training set: 1.0631203651428223\n",
      "Epoch 120, Loss at training set: 0.784835696220398\n",
      "Epoch 140, Loss at training set: 0.515079915523529\n",
      "Epoch 160, Loss at training set: 0.30792099237442017\n",
      "Epoch 180, Loss at training set: 0.20461824536323547\n",
      "Epoch 200, Loss at training set: 0.1312541514635086\n",
      "Epoch 220, Loss at training set: 0.10049225389957428\n",
      "Epoch 240, Loss at training set: 0.07409950345754623\n",
      "Epoch 260, Loss at training set: 0.07493478059768677\n",
      "Epoch 280, Loss at training set: 0.06183832883834839\n",
      "Epoch 300, Loss at training set: 0.05707372725009918\n",
      "Epoch 320, Loss at training set: 0.04337053745985031\n",
      "Epoch 340, Loss at training set: 0.04331574961543083\n",
      "Epoch 360, Loss at training set: 0.03557341918349266\n",
      "Epoch 380, Loss at training set: 0.03940211236476898\n",
      "Epoch 400, Loss at training set: 0.03373708575963974\n"
     ]
    }
   ],
   "source": [
    "# run Training in overfitting mode\n",
    "from lstm import LSTMBackbone\n",
    "\n",
    "DEVICE = 'cuda' \n",
    "RNN_HIDDEN_SIZE = 64\n",
    "NUM_CATEGORIES = 10\n",
    "\n",
    "LR = 1e-4\n",
    "epochs = 10\n",
    "\n",
    "backbone = LSTMBackbone(input_shape[1], rnn_size=RNN_HIDDEN_SIZE, num_layers=2, bidirectional=True)\n",
    "model = Classifier(NUM_CATEGORIES, backbone)\n",
    "model.to(DEVICE)\n",
    "\n",
    "optimizer = torch.optim.Adam(model.parameters(), lr=LR)\n",
    "\n",
    "train(model, train_loader, val_loader, optimizer, epochs, device=DEVICE, overfit_batch=True)"
   ]
  },
  {
   "cell_type": "code",
   "execution_count": 36,
   "metadata": {
    "execution": {
     "iopub.execute_input": "2024-11-21T07:53:13.252193Z",
     "iopub.status.busy": "2024-11-21T07:53:13.251909Z",
     "iopub.status.idle": "2024-11-21T07:55:03.050507Z",
     "shell.execute_reply": "2024-11-21T07:55:03.049725Z",
     "shell.execute_reply.started": "2024-11-21T07:53:13.252162Z"
    },
    "trusted": true
   },
   "outputs": [
    {
     "name": "stdout",
     "output_type": "stream",
     "text": [
      "Training started for model lstm_genre_mel...\n",
      "Epoch 1/40, Loss at training set: 2.186451095007199\n",
      "\tLoss at validation set: 2.0772649522485405\n",
      "Epoch 5/40, Loss at training set: 1.920344193260391\n",
      "\tLoss at validation set: 1.8719276970830456\n",
      "Epoch 10/40, Loss at training set: 1.8810015844576287\n",
      "\tLoss at validation set: 1.8149321593087295\n",
      "Epoch 15/40, Loss at training set: 1.8042456866342784\n",
      "\tLoss at validation set: 1.8081707091167056\n",
      "Early Stopping was activated.\n",
      "Epoch 17/40, Loss at training set: 1.7962352826997832\n",
      "\tLoss at validation set: 1.821236589859272\n",
      "Training has been completed.\n",
      "\n"
     ]
    }
   ],
   "source": [
    "# run Training\n",
    "DEVICE = 'cuda'\n",
    "RNN_HIDDEN_SIZE = 128\n",
    "NUM_CATEGORIES = 10\n",
    "\n",
    "LR = 1e-4\n",
    "epochs = 40\n",
    "save_path='lstm_genre_mel.pth'\n",
    "\n",
    "backbone = LSTMBackbone(input_shape[1], rnn_size=RNN_HIDDEN_SIZE, num_layers=2, bidirectional=True)\n",
    "model = Classifier(NUM_CATEGORIES, backbone)\n",
    "model.to(DEVICE)\n",
    "\n",
    "optimizer = torch.optim.Adam(model.parameters(), lr=LR)\n",
    "\n",
    "train(model, train_loader, val_loader, optimizer, epochs, save_path=save_path, device=DEVICE, overfit_batch=False)"
   ]
  },
  {
   "cell_type": "code",
   "execution_count": 43,
   "metadata": {
    "execution": {
     "iopub.execute_input": "2024-11-21T08:35:11.971371Z",
     "iopub.status.busy": "2024-11-21T08:35:11.970650Z",
     "iopub.status.idle": "2024-11-21T08:35:11.976304Z",
     "shell.execute_reply": "2024-11-21T08:35:11.975504Z",
     "shell.execute_reply.started": "2024-11-21T08:35:11.971339Z"
    },
    "trusted": true
   },
   "outputs": [],
   "source": [
    "from sklearn.metrics import classification_report\n",
    "\n",
    "def get_labels_predictions(model, data_loader, device):\n",
    "    model.eval()\n",
    "    y = []\n",
    "    y_ = []\n",
    "    with torch.no_grad():\n",
    "        for x, labels, lengths in data_loader:\n",
    "            loss, logits = model(x.float().to(device), labels.to(device), lengths.to(device))\n",
    "            y.append(labels)\n",
    "            y_.append(logits.argmax(dim=-1).detach().cpu().numpy())\n",
    "\n",
    "    return y, y_ "
   ]
  },
  {
   "cell_type": "code",
   "execution_count": 44,
   "metadata": {
    "execution": {
     "iopub.execute_input": "2024-11-21T08:35:16.778068Z",
     "iopub.status.busy": "2024-11-21T08:35:16.777460Z",
     "iopub.status.idle": "2024-11-21T08:35:18.610604Z",
     "shell.execute_reply": "2024-11-21T08:35:18.609907Z",
     "shell.execute_reply.started": "2024-11-21T08:35:16.778036Z"
    },
    "trusted": true
   },
   "outputs": [
    {
     "name": "stdout",
     "output_type": "stream",
     "text": [
      "Evaluation of model lstm_genre_mel on the test set...\n",
      "              precision    recall  f1-score   support\n",
      "\n",
      "           0       0.00      0.00      0.00        40\n",
      "           1       0.41      0.53      0.46        40\n",
      "           2       0.26      0.78      0.39        80\n",
      "           3       0.38      0.40      0.39        80\n",
      "           4       0.33      0.03      0.05        40\n",
      "           5       0.00      0.00      0.00        40\n",
      "           6       0.31      0.05      0.09        78\n",
      "           7       0.00      0.00      0.00        40\n",
      "           8       0.33      0.58      0.42       103\n",
      "           9       0.00      0.00      0.00        34\n",
      "\n",
      "    accuracy                           0.31       575\n",
      "   macro avg       0.20      0.24      0.18       575\n",
      "weighted avg       0.24      0.31      0.23       575\n",
      "\n"
     ]
    },
    {
     "name": "stderr",
     "output_type": "stream",
     "text": [
      "/opt/conda/lib/python3.7/site-packages/sklearn/metrics/_classification.py:1318: UndefinedMetricWarning: Precision and F-score are ill-defined and being set to 0.0 in labels with no predicted samples. Use `zero_division` parameter to control this behavior.\n",
      "  _warn_prf(average, modifier, msg_start, len(result))\n",
      "/opt/conda/lib/python3.7/site-packages/sklearn/metrics/_classification.py:1318: UndefinedMetricWarning: Precision and F-score are ill-defined and being set to 0.0 in labels with no predicted samples. Use `zero_division` parameter to control this behavior.\n",
      "  _warn_prf(average, modifier, msg_start, len(result))\n",
      "/opt/conda/lib/python3.7/site-packages/sklearn/metrics/_classification.py:1318: UndefinedMetricWarning: Precision and F-score are ill-defined and being set to 0.0 in labels with no predicted samples. Use `zero_division` parameter to control this behavior.\n",
      "  _warn_prf(average, modifier, msg_start, len(result))\n"
     ]
    }
   ],
   "source": [
    "data_dir = 'fma_genre_spectrograms'\n",
    "saved_model_path = 'lstm_genre_mel.pth'\n",
    "\n",
    "print(f'Evaluation of model {saved_model_path.replace(\".pth\", \"\")} on the test set...')\n",
    "\n",
    "test_dataset = SpectrogramDataset(\n",
    "    os.path.join(PARENT_DATA_DIR, data_dir), class_mapping=CLASS_MAPPING, \n",
    "    train=False, feat_type='mel', max_length=MAX_LENGTH\n",
    ")\n",
    "\n",
    "test_loader, _ = torch_train_val_split(\n",
    "    test_dataset, BATCH_SIZE, BATCH_SIZE, val_size=0.0\n",
    ")\n",
    "\n",
    "# get the input shape\n",
    "x_b1, y_b1, lengths_b1 = next(iter(test_loader))\n",
    "input_shape = x_b1[0].shape\n",
    "\n",
    "backbone = LSTMBackbone(input_shape[1], rnn_size=RNN_HIDDEN_SIZE, num_layers=2, bidirectional=True)\n",
    "model = Classifier(NUM_CATEGORIES, backbone)\n",
    "model.to(DEVICE)\n",
    "model.load_state_dict(torch.load(saved_model_path))\n",
    "\n",
    "y, y_ = get_labels_predictions(model, test_loader, DEVICE)\n",
    "print(classification_report(np.hstack(y), np.hstack(y_)))"
   ]
  },
  {
   "cell_type": "code",
   "execution_count": 45,
   "metadata": {
    "execution": {
     "iopub.execute_input": "2024-11-21T08:45:27.367564Z",
     "iopub.status.busy": "2024-11-21T08:45:27.366811Z",
     "iopub.status.idle": "2024-11-21T08:45:27.378015Z",
     "shell.execute_reply": "2024-11-21T08:45:27.377395Z",
     "shell.execute_reply.started": "2024-11-21T08:45:27.367532Z"
    },
    "trusted": true
   },
   "outputs": [],
   "source": [
    "# 2D CNN\n",
    "\n",
    "# copy paste from convolution.py and add the implementation\n",
    "import torch\n",
    "import torch.nn as nn\n",
    "\n",
    "class CNNBackbone(nn.Module):\n",
    "    def __init__(self, input_dims, in_channels, filters, feature_size):\n",
    "        super(CNNBackbone, self).__init__()\n",
    "        self.input_dims = input_dims\n",
    "        self.in_channels = in_channels\n",
    "        self.filters = filters\n",
    "        self.feature_size = feature_size\n",
    "        \n",
    "        self.conv1 = nn.Sequential(\n",
    "            nn.Conv2d(self.in_channels, filters[0], kernel_size=(5,5), stride=1, padding=2),\n",
    "            nn.BatchNorm2d((self.in_channels**1) * filters[0]),\n",
    "            nn.ReLU(),\n",
    "            nn.MaxPool2d(kernel_size=2, stride=2))\n",
    "\n",
    "        self.conv2 = nn.Sequential(\n",
    "                nn.Conv2d(filters[0], filters[1], kernel_size=(5,5), stride=1, padding=2),\n",
    "                nn.BatchNorm2d((self.in_channels**2) * filters[1]),\n",
    "                nn.ReLU(),\n",
    "                nn.MaxPool2d(kernel_size=2, stride=2))\n",
    "\n",
    "        self.conv3 = nn.Sequential(\n",
    "                nn.Conv2d(filters[1], filters[2], kernel_size=(3,3), stride=1, padding=1),\n",
    "                nn.BatchNorm2d((self.in_channels**3) * filters[2]),\n",
    "                nn.ReLU(),\n",
    "                nn.MaxPool2d(kernel_size=2, stride=2))\n",
    "\n",
    "        self.conv4 = nn.Sequential(\n",
    "                nn.Conv2d(filters[2], filters[3], kernel_size=(3,3), stride=1, padding=1),\n",
    "                nn.BatchNorm2d((self.in_channels**4) * filters[3]),\n",
    "                nn.ReLU(),\n",
    "                nn.MaxPool2d(kernel_size=2, stride=2))\n",
    "        \n",
    "        shape_after_convs = [input_dims[0]//2**(len(filters)), input_dims[1]//2**(len(filters))]\n",
    "        self.fc1 = nn.Linear(filters[3] * shape_after_convs[0] * shape_after_convs[1], self.feature_size)\n",
    "        \n",
    "    def forward(self, x):\n",
    "        x = x.view(x.shape[0], self.in_channels, x.shape[1], x.shape[2])\n",
    "        out = self.conv1(x)\n",
    "        out = self.conv2(out)\n",
    "        out = self.conv3(out)\n",
    "        out = self.conv4(out)\n",
    "        out = out.reshape(out.size(0), -1)\n",
    "        out = self.fc1(out)\n",
    "        return out"
   ]
  },
  {
   "cell_type": "code",
   "execution_count": 46,
   "metadata": {
    "execution": {
     "iopub.execute_input": "2024-11-21T08:45:43.118461Z",
     "iopub.status.busy": "2024-11-21T08:45:43.117951Z",
     "iopub.status.idle": "2024-11-21T08:45:51.714718Z",
     "shell.execute_reply": "2024-11-21T08:45:51.713987Z",
     "shell.execute_reply.started": "2024-11-21T08:45:43.118424Z"
    },
    "trusted": true
   },
   "outputs": [
    {
     "name": "stdout",
     "output_type": "stream",
     "text": [
      "Training in overfitting mode...\n",
      "Epoch 1, Loss at training set: 2.3914988040924072\n",
      "Epoch 20, Loss at training set: 0.00012517279537860304\n",
      "Epoch 40, Loss at training set: 2.4779423256404698e-05\n",
      "Epoch 60, Loss at training set: 1.588419581821654e-05\n",
      "Epoch 80, Loss at training set: 1.1682277545332909e-05\n",
      "Epoch 100, Loss at training set: 9.074670742847957e-06\n",
      "Epoch 120, Loss at training set: 7.301483037736034e-06\n",
      "Epoch 140, Loss at training set: 6.07961555942893e-06\n",
      "Epoch 160, Loss at training set: 5.155760845809709e-06\n",
      "Epoch 180, Loss at training set: 4.425615315994946e-06\n",
      "Epoch 200, Loss at training set: 3.874280082527548e-06\n",
      "Epoch 220, Loss at training set: 3.397447926545283e-06\n",
      "Epoch 240, Loss at training set: 3.0249225346778985e-06\n",
      "Epoch 260, Loss at training set: 2.7269020392850507e-06\n",
      "Epoch 280, Loss at training set: 2.473584117979044e-06\n",
      "Epoch 300, Loss at training set: 2.235167357866885e-06\n",
      "Epoch 320, Loss at training set: 2.026552238021395e-06\n",
      "Epoch 340, Loss at training set: 1.862640260696935e-06\n",
      "Epoch 360, Loss at training set: 1.7136294445663225e-06\n",
      "Epoch 380, Loss at training set: 1.57951967594272e-06\n",
      "Epoch 400, Loss at training set: 1.4752120023331372e-06\n"
     ]
    }
   ],
   "source": [
    "# run Training in overfitting mode for the CNN \n",
    "DEVICE = 'cuda'\n",
    "NUM_CATEGORIES = 10\n",
    "cnn_in_channels = 1\n",
    "cnn_filters = [32, 64, 128, 256]\n",
    "cnn_out_feature_size = 1000\n",
    "\n",
    "LR = 1e-4\n",
    "epochs = 10\n",
    "\n",
    "# get the input shape\n",
    "x_b1, y_b1, lengths_b1 = next(iter(train_loader))\n",
    "input_shape = x_b1[0].shape\n",
    "\n",
    "backbone = CNNBackbone(input_shape, cnn_in_channels, cnn_filters, cnn_out_feature_size)\n",
    "model = Classifier(NUM_CATEGORIES, backbone)\n",
    "model.to(DEVICE)\n",
    "\n",
    "optimizer = torch.optim.Adam(model.parameters(), lr=LR)\n",
    "\n",
    "train(model, train_loader, val_loader, optimizer, epochs, device=DEVICE, overfit_batch=True)"
   ]
  },
  {
   "cell_type": "code",
   "execution_count": 47,
   "metadata": {
    "execution": {
     "iopub.execute_input": "2024-11-21T08:47:45.307191Z",
     "iopub.status.busy": "2024-11-21T08:47:45.306473Z",
     "iopub.status.idle": "2024-11-21T08:48:38.367434Z",
     "shell.execute_reply": "2024-11-21T08:48:38.366798Z",
     "shell.execute_reply.started": "2024-11-21T08:47:45.307154Z"
    },
    "trusted": true
   },
   "outputs": [
    {
     "name": "stdout",
     "output_type": "stream",
     "text": [
      "Training started for model checkpoint...\n",
      "Epoch 1/10, Loss at training set: 4.438097212995801\n",
      "\tLoss at validation set: 2.7009637088611207\n",
      "Epoch 5/10, Loss at training set: 1.7643467283352112\n",
      "\tLoss at validation set: 2.029706060886383\n",
      "Epoch 10/10, Loss at training set: 1.274768475588266\n",
      "\tLoss at validation set: 1.9006667414615894\n"
     ]
    }
   ],
   "source": [
    "train(model, train_loader, val_loader, optimizer, epochs, device=DEVICE, overfit_batch=False)"
   ]
  },
  {
   "cell_type": "code",
   "execution_count": 48,
   "metadata": {
    "execution": {
     "iopub.execute_input": "2024-11-21T08:55:57.875768Z",
     "iopub.status.busy": "2024-11-21T08:55:57.875468Z",
     "iopub.status.idle": "2024-11-21T08:55:57.882362Z",
     "shell.execute_reply": "2024-11-21T08:55:57.881578Z",
     "shell.execute_reply.started": "2024-11-21T08:55:57.875740Z"
    },
    "trusted": true
   },
   "outputs": [],
   "source": [
    "# add implementation of Regressor\n",
    "\n",
    "class Regressor(nn.Module):\n",
    "    def __init__(self, backbone, load_from_checkpoint=None):\n",
    "        \"\"\"\n",
    "        backbone (nn.Module): The nn.Module to use for spectrogram parsing\n",
    "        load_from_checkpoint (Optional[str]): Use a pretrained checkpoint to initialize the model\n",
    "        \"\"\"\n",
    "        super(Regressor, self).__init__()\n",
    "        self.backbone = backbone  # An LSTMBackbone or CNNBackbone\n",
    "        if load_from_checkpoint is not None:\n",
    "            self.backbone = load_backbone_from_checkpoint(\n",
    "                self.backbone, load_from_checkpoint\n",
    "            )\n",
    "        self.is_lstm = isinstance(self.backbone, LSTMBackbone)\n",
    "        self.output_layer = nn.Linear(self.backbone.feature_size, 1)\n",
    "        self.criterion = nn.MSELoss()  # Loss function for regression\n",
    "\n",
    "    def forward(self, x, targets, lengths):\n",
    "        feats = self.backbone(x) if not self.is_lstm else self.backbone(x, lengths)\n",
    "        out = self.output_layer(feats)\n",
    "        loss = self.criterion(out.float(), targets.float())\n",
    "        return loss, out"
   ]
  },
  {
   "cell_type": "code",
   "execution_count": 14,
   "metadata": {
    "trusted": true
   },
   "outputs": [
    {
     "ename": "TypeError",
     "evalue": "tensor() missing 1 required positional arguments: \"data\"",
     "output_type": "error",
     "traceback": [
      "\u001b[0;31m---------------------------------------------------------------------------\u001b[0m",
      "\u001b[0;31mTypeError\u001b[0m                                 Traceback (most recent call last)",
      "Cell \u001b[0;32mIn[14], line 4\u001b[0m\n\u001b[1;32m      1\u001b[0m \u001b[38;5;28;01mimport\u001b[39;00m \u001b[38;5;21;01mtorch\u001b[39;00m\n\u001b[1;32m      2\u001b[0m \u001b[38;5;28;01mimport\u001b[39;00m \u001b[38;5;21;01mnumpy\u001b[39;00m \u001b[38;5;28;01mas\u001b[39;00m \u001b[38;5;21;01mnp\u001b[39;00m\n\u001b[0;32m----> 4\u001b[0m a \u001b[38;5;241m=\u001b[39m \u001b[43mtorch\u001b[49m\u001b[38;5;241;43m.\u001b[39;49m\u001b[43mtensor\u001b[49m\u001b[43m(\u001b[49m\u001b[43m)\u001b[49m\n\u001b[1;32m      5\u001b[0m a\n",
      "\u001b[0;31mTypeError\u001b[0m: tensor() missing 1 required positional arguments: \"data\""
     ]
    }
   ],
   "source": [
    "import torch\n",
    "import numpy as np\n",
    "\n",
    "a = torch.tensor()\n",
    "a"
   ]
  },
  {
   "cell_type": "code",
   "execution_count": 22,
   "metadata": {},
   "outputs": [
    {
     "data": {
      "text/plain": [
       "array([1, 2, 3, 4])"
      ]
     },
     "execution_count": 22,
     "metadata": {},
     "output_type": "execute_result"
    }
   ],
   "source": [
    "y1 = torch.tensor([1, 2, 3, 4]).cpu().numpy()\n",
    "y2 = torch.tensor([4, 3, 2, 1]).cpu().numpy()\n",
    "y3 = np.array([1, 1, 1, 1, 1, 1, 1, 1])\n",
    "y1"
   ]
  },
  {
   "cell_type": "code",
   "execution_count": 20,
   "metadata": {},
   "outputs": [
    {
     "data": {
      "text/plain": [
       "array([1, 2, 3, 4, 4, 3, 2, 1])"
      ]
     },
     "execution_count": 20,
     "metadata": {},
     "output_type": "execute_result"
    }
   ],
   "source": [
    "y4 = np.hstack((y1, y2))\n",
    "y4"
   ]
  },
  {
   "cell_type": "code",
   "execution_count": 21,
   "metadata": {},
   "outputs": [
    {
     "data": {
      "text/plain": [
       "np.float64(1.5)"
      ]
     },
     "execution_count": 21,
     "metadata": {},
     "output_type": "execute_result"
    }
   ],
   "source": [
    "np.mean(y4 - y3)"
   ]
  },
  {
   "cell_type": "code",
   "execution_count": 34,
   "metadata": {},
   "outputs": [
    {
     "data": {
      "text/plain": [
       "True"
      ]
     },
     "execution_count": 34,
     "metadata": {},
     "output_type": "execute_result"
    }
   ],
   "source": [
    "ls = [y1, y2]\n",
    "cr = torch.nn.MSELoss()\n",
    "cr.__class__ == torch.nn.modules.loss.MSELoss"
   ]
  },
  {
   "cell_type": "code",
   "execution_count": 30,
   "metadata": {},
   "outputs": [
    {
     "data": {
      "text/plain": [
       "False"
      ]
     },
     "execution_count": 30,
     "metadata": {},
     "output_type": "execute_result"
    }
   ],
   "source": [
    "cr is torch.nn.MSELoss()"
   ]
  },
  {
   "cell_type": "code",
   "execution_count": null,
   "metadata": {},
   "outputs": [],
   "source": []
  }
 ],
 "metadata": {
  "kaggle": {
   "accelerator": "nvidiaTeslaT4",
   "dataSources": [
    {
     "databundleVersionId": 3023027,
     "sourceId": 33497,
     "sourceType": "competition"
    },
    {
     "datasetId": 476917,
     "sourceId": 892850,
     "sourceType": "datasetVersion"
    }
   ],
   "dockerImageVersionId": 30152,
   "isGpuEnabled": true,
   "isInternetEnabled": true,
   "language": "python",
   "sourceType": "notebook"
  },
  "kernelspec": {
   "display_name": "Python 3",
   "language": "python",
   "name": "python3"
  },
  "language_info": {
   "codemirror_mode": {
    "name": "ipython",
    "version": 3
   },
   "file_extension": ".py",
   "mimetype": "text/x-python",
   "name": "python",
   "nbconvert_exporter": "python",
   "pygments_lexer": "ipython3",
   "version": "3.9.20"
  }
 },
 "nbformat": 4,
 "nbformat_minor": 4
}
