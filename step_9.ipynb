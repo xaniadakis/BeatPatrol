{
 "cells": [
  {
   "metadata": {},
   "cell_type": "markdown",
   "source": "#### Set dataset path (download if running on remote session)",
   "id": "1550f820aa70af0e"
  },
  {
   "metadata": {
    "ExecuteTime": {
     "end_time": "2024-12-09T06:54:21.857254Z",
     "start_time": "2024-12-09T06:54:21.853599Z"
    }
   },
   "cell_type": "code",
   "source": [
    "import os\n",
    "\n",
    "DATA_PATH = None\n",
    "RUNNING_REMOTE = False\n",
    "if RUNNING_REMOTE:\n",
    "    ! pip install kagglehub\n",
    "    import kagglehub\n",
    "    \n",
    "    path = kagglehub.dataset_download(handle=\"geoparslp/patreco3-multitask-affective-music\")\n",
    "    DATA_PATH = os.path.join(path, \"data/\")\n",
    "else:\n",
    "    DATA_PATH = os.path.join(os.getcwd(), \"data/\")\n",
    "print(\"Path to dataset files:\", DATA_PATH)"
   ],
   "id": "d98f232f8c1c9b3b",
   "outputs": [
    {
     "name": "stdout",
     "output_type": "stream",
     "text": [
      "Path to dataset files: /home/vag/Documents/DSML/PatternRecognition/BeatPatrol/data/\n"
     ]
    }
   ],
   "execution_count": 2
  },
  {
   "metadata": {},
   "cell_type": "markdown",
   "source": "#### Import utilities and set notebook variables",
   "id": "ff91b71716db123a"
  },
  {
   "cell_type": "code",
   "id": "initial_id",
   "metadata": {
    "colab": {
     "base_uri": "https://localhost:8080/"
    },
    "id": "initial_id",
    "outputId": "77ce925e-8e66-42bb-dd15-82726b902d20",
    "ExecuteTime": {
     "end_time": "2024-12-09T06:54:27.017892Z",
     "start_time": "2024-12-09T06:54:23.461834Z"
    }
   },
   "source": [
    "!pip install timm==0.4.5 \n",
    "from utils import SpectrogramDataset, torch_train_val_split, ASTBackbone, get_regression_report, \\\n",
    "    CLASS_MAPPING, Classifier, Regressor, train, get_device, free_gpu_memory, test_model, plot_train_val_losses, \\\n",
    "    get_classification_report\n",
    "import torch\n",
    "\n",
    "model_weights_path = os.path.join(os.getcwd(), \"model_weights/\")\n",
    "assets_path = os.path.join(os.getcwd(), \"assets/\")\n",
    "\n",
    "mel_specs_path = DATA_PATH + \"fma_genre_spectrograms/\"\n",
    "beat_mel_specs_path = DATA_PATH + \"fma_genre_spectrograms_beat/\"\n",
    "multitask_path = DATA_PATH + \"multitask_dataset/\"\n",
    "os.makedirs(model_weights_path, exist_ok=True)\n",
    "os.makedirs(assets_path, exist_ok=True)\n",
    "\n",
    "EPOCHS = 100\n",
    "LR = 1e-4\n",
    "BATCH_SIZE = 8\n",
    "VAL_SIZE = .2\n",
    "RANDOM_SEED = 42\n",
    "NUM_CATEGORIES = 10\n",
    "AST_MODEL_SIZES = ['tiny224', 'small224', 'base224', 'base384']\n",
    "LOAD_PRETRAINED = True\n",
    "\n",
    "if torch.cuda.is_available():\n",
    "    print(f\"Detected GPU: {torch.cuda.get_device_name(0)}\")\n",
    "    print(f\"Free GPU Memory: {free_gpu_memory():.2f}%\")\n",
    "else:\n",
    "    print(\"CUDA is not available. No compatible GPU detected.\")\n",
    "DEVICE = get_device()"
   ],
   "outputs": [
    {
     "name": "stdout",
     "output_type": "stream",
     "text": [
      "Requirement already satisfied: timm==0.4.5 in ./beat_patrol_env/lib/python3.8/site-packages (0.4.5)\r\n",
      "Requirement already satisfied: torch>=1.4 in ./beat_patrol_env/lib/python3.8/site-packages (from timm==0.4.5) (2.4.1+cu121)\r\n",
      "Requirement already satisfied: torchvision in ./beat_patrol_env/lib/python3.8/site-packages (from timm==0.4.5) (0.19.1+cu121)\r\n",
      "Requirement already satisfied: filelock in ./beat_patrol_env/lib/python3.8/site-packages (from torch>=1.4->timm==0.4.5) (3.13.1)\r\n",
      "Requirement already satisfied: typing-extensions>=4.8.0 in ./beat_patrol_env/lib/python3.8/site-packages (from torch>=1.4->timm==0.4.5) (4.12.2)\r\n",
      "Requirement already satisfied: sympy in ./beat_patrol_env/lib/python3.8/site-packages (from torch>=1.4->timm==0.4.5) (1.13.1)\r\n",
      "Requirement already satisfied: networkx in ./beat_patrol_env/lib/python3.8/site-packages (from torch>=1.4->timm==0.4.5) (3.0)\r\n",
      "Requirement already satisfied: jinja2 in ./beat_patrol_env/lib/python3.8/site-packages (from torch>=1.4->timm==0.4.5) (3.1.4)\r\n",
      "Requirement already satisfied: fsspec in ./beat_patrol_env/lib/python3.8/site-packages (from torch>=1.4->timm==0.4.5) (2024.2.0)\r\n",
      "Requirement already satisfied: nvidia-cuda-nvrtc-cu12==12.1.105 in ./beat_patrol_env/lib/python3.8/site-packages (from torch>=1.4->timm==0.4.5) (12.1.105)\r\n",
      "Requirement already satisfied: nvidia-cuda-runtime-cu12==12.1.105 in ./beat_patrol_env/lib/python3.8/site-packages (from torch>=1.4->timm==0.4.5) (12.1.105)\r\n",
      "Requirement already satisfied: nvidia-cuda-cupti-cu12==12.1.105 in ./beat_patrol_env/lib/python3.8/site-packages (from torch>=1.4->timm==0.4.5) (12.1.105)\r\n",
      "Requirement already satisfied: nvidia-cudnn-cu12==9.1.0.70 in ./beat_patrol_env/lib/python3.8/site-packages (from torch>=1.4->timm==0.4.5) (9.1.0.70)\r\n",
      "Requirement already satisfied: nvidia-cublas-cu12==12.1.3.1 in ./beat_patrol_env/lib/python3.8/site-packages (from torch>=1.4->timm==0.4.5) (12.1.3.1)\r\n",
      "Requirement already satisfied: nvidia-cufft-cu12==11.0.2.54 in ./beat_patrol_env/lib/python3.8/site-packages (from torch>=1.4->timm==0.4.5) (11.0.2.54)\r\n",
      "Requirement already satisfied: nvidia-curand-cu12==10.3.2.106 in ./beat_patrol_env/lib/python3.8/site-packages (from torch>=1.4->timm==0.4.5) (10.3.2.106)\r\n",
      "Requirement already satisfied: nvidia-cusolver-cu12==11.4.5.107 in ./beat_patrol_env/lib/python3.8/site-packages (from torch>=1.4->timm==0.4.5) (11.4.5.107)\r\n",
      "Requirement already satisfied: nvidia-cusparse-cu12==12.1.0.106 in ./beat_patrol_env/lib/python3.8/site-packages (from torch>=1.4->timm==0.4.5) (12.1.0.106)\r\n",
      "Requirement already satisfied: nvidia-nccl-cu12==2.20.5 in ./beat_patrol_env/lib/python3.8/site-packages (from torch>=1.4->timm==0.4.5) (2.20.5)\r\n",
      "Requirement already satisfied: nvidia-nvtx-cu12==12.1.105 in ./beat_patrol_env/lib/python3.8/site-packages (from torch>=1.4->timm==0.4.5) (12.1.105)\r\n",
      "Requirement already satisfied: triton==3.0.0 in ./beat_patrol_env/lib/python3.8/site-packages (from torch>=1.4->timm==0.4.5) (3.0.0)\r\n",
      "Requirement already satisfied: nvidia-nvjitlink-cu12 in ./beat_patrol_env/lib/python3.8/site-packages (from nvidia-cusolver-cu12==11.4.5.107->torch>=1.4->timm==0.4.5) (12.1.105)\r\n",
      "Requirement already satisfied: numpy in ./beat_patrol_env/lib/python3.8/site-packages (from torchvision->timm==0.4.5) (1.21.6)\r\n",
      "Requirement already satisfied: pillow!=8.3.*,>=5.3.0 in ./beat_patrol_env/lib/python3.8/site-packages (from torchvision->timm==0.4.5) (10.4.0)\r\n",
      "Requirement already satisfied: MarkupSafe>=2.0 in ./beat_patrol_env/lib/python3.8/site-packages (from jinja2->torch>=1.4->timm==0.4.5) (2.1.5)\r\n",
      "Requirement already satisfied: mpmath<1.4,>=1.1.0 in ./beat_patrol_env/lib/python3.8/site-packages (from sympy->torch>=1.4->timm==0.4.5) (1.3.0)\r\n",
      "Detected GPU: NVIDIA GeForce RTX 4060 Laptop GPU\n",
      "Free GPU Memory: 100.00%\n"
     ]
    }
   ],
   "execution_count": 3
  },
  {
   "metadata": {},
   "cell_type": "markdown",
   "source": "#### Train a classifier on the *fma_genre_spectrograms* Dataset and save the weights on epoch with best performance ",
   "id": "794d8451f95a9988"
  },
  {
   "metadata": {
    "colab": {
     "base_uri": "https://localhost:8080/"
    },
    "id": "c3176807b6f939f2",
    "outputId": "f216f42c-09b8-43c8-f186-affa913d5f01",
    "ExecuteTime": {
     "end_time": "2024-12-09T06:54:51.202744Z",
     "start_time": "2024-12-09T06:54:47.502186Z"
    }
   },
   "cell_type": "code",
   "source": [
    "import torch\n",
    "import torch.optim as optim\n",
    "\n",
    "mel_specs_data = SpectrogramDataset(mel_specs_path, class_mapping=CLASS_MAPPING, train=True)\n",
    "mel_specs_train_dl, mel_specs_val_dl = torch_train_val_split(\n",
    "    dataset=mel_specs_data,\n",
    "    batch_eval=BATCH_SIZE,\n",
    "    batch_train=BATCH_SIZE,\n",
    "    val_size=VAL_SIZE,\n",
    "    shuffle=True,\n",
    ")\n",
    "\n",
    "x_b1, _, _ = next(iter(mel_specs_train_dl))\n",
    "input_shape = x_b1[0].shape\n",
    "\n",
    "# init AST Backbone and classifier\n",
    "model_size = AST_MODEL_SIZES[0]\n",
    "backbone = ASTBackbone(\n",
    "    fstride=10,\n",
    "    tstride=10,\n",
    "    input_fdim=input_shape[1],\n",
    "    input_tdim=input_shape[0],\n",
    "    imagenet_pretrain=True,\n",
    "    model_size=model_size,\n",
    "    feature_size=NUM_CATEGORIES,\n",
    ")\n",
    "model = Classifier(NUM_CATEGORIES, backbone).to(DEVICE)\n",
    "genre_optimizer = optim.Adam(model.parameters(), lr=LR)\n",
    "\n",
    "pretrained_weights = model_weights_path + model_size + \"_ast_spectrogram_pretraining.pth\"\n",
    "\n",
    "if LOAD_PRETRAINED:\n",
    "    model.load_state_dict(torch.load(pretrained_weights, map_location=DEVICE, weights_only=True))\n",
    "else:\n",
    "    # Train the model on Spectrograms\n",
    "    train_losses, val_losses = train(\n",
    "        model,\n",
    "        mel_specs_train_dl,\n",
    "        mel_specs_val_dl,\n",
    "        genre_optimizer,\n",
    "        EPOCHS,\n",
    "        device=DEVICE,\n",
    "        patience=3,\n",
    "        save_path=pretrained_weights,\n",
    "    )\n",
    "    plot_train_val_losses(train_losses, val_losses)"
   ],
   "id": "c3176807b6f939f2",
   "outputs": [],
   "execution_count": 4
  },
  {
   "metadata": {
    "ExecuteTime": {
     "end_time": "2024-12-08T19:44:01.056615Z",
     "start_time": "2024-12-08T19:44:00.894888Z"
    }
   },
   "cell_type": "code",
   "source": "print(f\"Free GPU Memory: {free_gpu_memory():.2f}%\")",
   "id": "a02ba3a46d70bf41",
   "outputs": [
    {
     "name": "stdout",
     "output_type": "stream",
     "text": [
      "Free GPU Memory: 99.44%\n"
     ]
    }
   ],
   "execution_count": 3
  },
  {
   "metadata": {},
   "cell_type": "markdown",
   "source": "#### Use the pretrained weights from the model trained on *fma_genre_spectrograms* and fine-tune a Regressor on the *energy* Dataset ",
   "id": "5cb4b4832c94eaff"
  },
  {
   "cell_type": "code",
   "source": [
    "energy_data = SpectrogramDataset(\n",
    "    multitask_path,\n",
    "    class_mapping=CLASS_MAPPING,\n",
    "    train=True,\n",
    "    regression=2)\n",
    "\n",
    "energy_train_dl, energy_val_dl = torch_train_val_split(\n",
    "    dataset=energy_data,\n",
    "    batch_eval=BATCH_SIZE,\n",
    "    batch_train=BATCH_SIZE,\n",
    "    val_size=VAL_SIZE,\n",
    "    shuffle=True)\n",
    "\n",
    "# Initialize model for regression\n",
    "pretrained_backbone = ASTBackbone(\n",
    "    fstride=10,\n",
    "    tstride=10,\n",
    "    input_fdim=energy_data[0][0].shape[1],\n",
    "    input_tdim=energy_data[0][0].shape[0],\n",
    "    imagenet_pretrain=False,\n",
    "    model_size=model_size,\n",
    "    feature_size=1,\n",
    ")\n",
    "pretrained_backbone.load_state_dict(torch.load(pretrained_weights, weights_only=True), strict=False)\n",
    "# Freeze all but the last 2 Transformer layers\n",
    "pretrained_backbone.freeze_layers(unfrozen_layers=2)\n",
    "\n",
    "energy_model = Regressor(pretrained_backbone).to(DEVICE)\n",
    "fine_optimizer = optim.Adam(\n",
    "    filter(lambda p: p.requires_grad, energy_model.parameters()),  # Only trainable params\n",
    "    lr=LR\n",
    ")\n",
    "\n",
    "finetuned_energy_weights = model_weights_path + model_size + \"_ast_energy_finetuning.pth\"\n",
    "\n",
    "if LOAD_PRETRAINED:\n",
    "    energy_model.load_state_dict(torch.load(finetuned_energy_weights, map_location=DEVICE, weights_only=True))\n",
    "else:\n",
    "    # Fine-tune the model for energy\n",
    "    train_losses, val_losses = train(\n",
    "        energy_model,\n",
    "        energy_train_dl,\n",
    "        energy_val_dl,\n",
    "        fine_optimizer,\n",
    "        EPOCHS,\n",
    "        device=DEVICE,\n",
    "        regression_flag=True,\n",
    "        patience=3,\n",
    "        save_path=finetuned_energy_weights,\n",
    "    )\n",
    "    plot_train_val_losses(train_losses, val_losses, save_title=f\"assets/nrg_finetuned_ast_train_val_losses.png\")"
   ],
   "metadata": {
    "id": "TaSoJspVWbmK",
    "ExecuteTime": {
     "end_time": "2024-12-08T19:59:04.276316Z",
     "start_time": "2024-12-08T19:44:01.073608Z"
    }
   },
   "id": "TaSoJspVWbmK",
   "outputs": [
    {
     "name": "stdout",
     "output_type": "stream",
     "text": [
      "Training started for model checkpoint...\n",
      "Epoch 1/100\n",
      "\tAverage Training Loss: 0.07716369210223181 (45.90s)\n",
      "\tAverage Validation Loss: 0.06964775840086597(4.45s)\n",
      "Epoch 2/100\n",
      "\tAverage Training Loss: 0.07159647147739882 (45.23s)\n",
      "\tAverage Validation Loss: 0.060608195806188245(4.44s)\n",
      "Epoch 3/100\n",
      "\tAverage Training Loss: 0.06569964021642123 (45.19s)\n",
      "\tAverage Validation Loss: 0.05628726791058268(4.44s)\n",
      "Epoch 4/100\n",
      "\tAverage Training Loss: 0.06138750907462255 (45.21s)\n",
      "\tAverage Validation Loss: 0.05212654499337077(4.44s)\n",
      "Epoch 5/100\n",
      "\tAverage Training Loss: 0.05284935703286819 (45.24s)\n",
      "\tAverage Validation Loss: 0.07067300472408533(4.44s)\n",
      "Epoch 6/100\n",
      "\tAverage Training Loss: 0.05251844329512225 (45.23s)\n",
      "\tAverage Validation Loss: 0.05043743770303471(4.44s)\n",
      "Epoch 7/100\n",
      "\tAverage Training Loss: 0.04508255587775359 (45.23s)\n",
      "\tAverage Validation Loss: 0.04485976230353117(4.44s)\n",
      "Epoch 8/100\n",
      "\tAverage Training Loss: 0.04365238344577034 (45.26s)\n",
      "\tAverage Validation Loss: 0.041800784678863626(4.45s)\n",
      "Epoch 9/100\n",
      "\tAverage Training Loss: 0.03968956854309788 (45.28s)\n",
      "\tAverage Validation Loss: 0.0416049343600337(4.45s)\n",
      "Epoch 10/100\n",
      "\tAverage Training Loss: 0.036881588481828174 (45.33s)\n",
      "\tAverage Validation Loss: 0.038820976591003795(4.45s)\n",
      "Epoch 11/100\n",
      "\tAverage Training Loss: 0.03188597363836041 (45.31s)\n",
      "\tAverage Validation Loss: 0.03755175821217043(4.46s)\n",
      "Epoch 12/100\n",
      "\tAverage Training Loss: 0.030205302142365054 (45.36s)\n",
      "\tAverage Validation Loss: 0.03825058891171856(4.46s)\n",
      "Epoch 13/100\n",
      "\tAverage Training Loss: 0.0291869877095837 (46.18s)\n",
      "\tAverage Validation Loss: 0.03489079685615642(4.57s)\n",
      "Epoch 14/100\n",
      "\tAverage Training Loss: 0.025527631523977735 (46.06s)\n",
      "\tAverage Validation Loss: 0.036268061359546015(4.45s)\n",
      "Epoch 15/100\n",
      "\tAverage Training Loss: 0.022052595773052457 (45.27s)\n",
      "\tAverage Validation Loss: 0.0373926612415484(4.45s)\n",
      "Epoch 16/100\n",
      "\tAverage Training Loss: 0.021559948118123333 (45.35s)\n",
      "\tAverage Validation Loss: 0.03693448845297098(4.46s)\n",
      "Epoch 17/100\n",
      "\tAverage Training Loss: 0.01858314924741543 (45.31s)\n",
      "\tAverage Validation Loss: 0.03806582244578749(4.45s)\n",
      "Epoch 18/100\n",
      "\tAverage Training Loss: 0.017503259058596683 (46.96s)\n",
      "\tAverage Validation Loss: 0.04476289391251547(5.05s)\n",
      "Early Stopping was activated.\n",
      "Training has been completed.\n",
      "\n"
     ]
    },
    {
     "data": {
      "text/plain": [
       "<Figure size 500x400 with 1 Axes>"
      ],
      "image/png": "[encoded data removed]"
     },
     "metadata": {},
     "output_type": "display_data"
    }
   ],
   "execution_count": 4
  },
  {
   "metadata": {
    "id": "503444aeab5cb6ba",
    "ExecuteTime": {
     "end_time": "2024-12-08T19:59:34.135752Z",
     "start_time": "2024-12-08T19:59:29.645770Z"
    }
   },
   "cell_type": "code",
   "source": [
    "y_true, y_pred, spear_corrs, pear_corrs = test_model(energy_model, energy_val_dl, DEVICE, regression_flag=True)\n",
    "\n",
    "print(\"Fine-Tuned AST Regressor on NRG Dataset\")\n",
    "get_regression_report(y_pred, y_true, spear_corrs, pear_corrs)"
   ],
   "id": "503444aeab5cb6ba",
   "outputs": [
    {
     "name": "stdout",
     "output_type": "stream",
     "text": [
      "Fine-Tuned AST Regressor on NRG Dataset\n",
      "\tAverageSpearman Correlation: 0.4728\n",
      "\tAverage Pearson Correlation: 0.5085\n",
      "\tMSE: 0.0448\n",
      "\tMAE: 0.1597\n",
      "\tRMSE: 0.2116\n",
      "\tMean Absolute Percentage Error (MAPE): 52.4202%\n",
      "\tR^2 Score: 0.2761\n",
      "\tExplained Variance Score: 0.3391\n"
     ]
    }
   ],
   "execution_count": 6
  },
  {
   "metadata": {},
   "cell_type": "markdown",
   "source": "#### Use the pretrained weights from the model trained on *fma_genre_spectrograms* and fine-tune a Regressor on the *valence* Dataset \n",
   "id": "ed0addd2843c21fa"
  },
  {
   "metadata": {
    "id": "ba325536270266bc",
    "ExecuteTime": {
     "end_time": "2024-12-08T20:04:21.235186Z",
     "start_time": "2024-12-08T20:01:02.166600Z"
    }
   },
   "cell_type": "code",
   "source": [
    "# Fine-Tuning for Valence Regression\n",
    "valence_data = SpectrogramDataset(\n",
    "    multitask_path,\n",
    "    class_mapping=CLASS_MAPPING,\n",
    "    train=True,\n",
    "    regression=1,  # Regression task for valence\n",
    ")\n",
    "\n",
    "valence_train_dl, valence_val_dl = torch_train_val_split(\n",
    "    dataset=valence_data,\n",
    "    batch_eval=BATCH_SIZE,\n",
    "    batch_train=BATCH_SIZE,\n",
    "    val_size=VAL_SIZE,\n",
    "    shuffle=True,\n",
    ")\n",
    "\n",
    "# Initialize model for regression\n",
    "pretrained_backbone = ASTBackbone(\n",
    "    fstride=10,\n",
    "    tstride=10,\n",
    "    input_fdim=valence_data[0][0].shape[1],\n",
    "    input_tdim=valence_data[0][0].shape[0],\n",
    "    imagenet_pretrain=False,\n",
    "    model_size=model_size,\n",
    "    feature_size=1,  # Single output for regression\n",
    ")\n",
    "pretrained_backbone.load_state_dict(torch.load(pretrained_weights, weights_only=True), strict=False)\n",
    "# Freeze all but the last 2 Transformer layers\n",
    "pretrained_backbone.freeze_layers(unfrozen_layers=2)\n",
    "\n",
    "valence_model = Regressor(pretrained_backbone).to(DEVICE)\n",
    "\n",
    "# Define optimizer after freezing layers to avoid updating frozen parameters\n",
    "valence_optimizer = optim.Adam(\n",
    "    filter(lambda p: p.requires_grad, valence_model.parameters()),  # Only trainable params\n",
    "    lr=LR\n",
    ")\n",
    "\n",
    "finetuned_valence_weights = model_weights_path + model_size + \"_ast_valence_finetuning.pth\"\n",
    "\n",
    "if LOAD_PRETRAINED:\n",
    "    valence_model.load_state_dict(torch.load(finetuned_valence_weights, map_location=DEVICE, weights_only=True))\n",
    "else:\n",
    "    # Fine-tune the model for Valence\n",
    "    train_losses, val_losses = train(\n",
    "        valence_model,\n",
    "        valence_train_dl,\n",
    "        valence_val_dl,\n",
    "        valence_optimizer,\n",
    "        EPOCHS,\n",
    "        device=DEVICE,\n",
    "        regression_flag=True,\n",
    "        patience=3,\n",
    "        save_path=finetuned_valence_weights,\n",
    "    )\n",
    "    plot_train_val_losses(train_losses, val_losses, save_title=f\"assets/valence_finetuned_ast_train_val_losses.png\")"
   ],
   "id": "ba325536270266bc",
   "outputs": [
    {
     "name": "stdout",
     "output_type": "stream",
     "text": [
      "Training started for model checkpoint...\n",
      "Epoch 1/100\n",
      "\tAverage Training Loss: 0.10838224024272862 (44.99s)\n",
      "\tAverage Validation Loss: 0.06846798078290053(4.44s)\n",
      "Epoch 2/100\n",
      "\tAverage Training Loss: 0.06784696588539972 (45.02s)\n",
      "\tAverage Validation Loss: 0.06903937432382788(4.43s)\n",
      "Epoch 3/100\n",
      "\tAverage Training Loss: 0.06829774485225171 (45.05s)\n",
      "\tAverage Validation Loss: 0.07208177600322026(4.43s)\n",
      "Epoch 4/100\n",
      "\tAverage Training Loss: 0.07157639615171779 (45.04s)\n",
      "\tAverage Validation Loss: 0.08685866889676877(4.43s)\n",
      "Early Stopping was activated.\n",
      "Training has been completed.\n",
      "\n"
     ]
    },
    {
     "data": {
      "text/plain": [
       "<Figure size 500x400 with 1 Axes>"
      ],
      "image/png": "[encoded data removed]"
     },
     "metadata": {},
     "output_type": "display_data"
    }
   ],
   "execution_count": 9
  },
  {
   "metadata": {
    "id": "d872892657eb97a4",
    "ExecuteTime": {
     "end_time": "2024-12-08T20:04:25.760254Z",
     "start_time": "2024-12-08T20:04:21.280291Z"
    }
   },
   "cell_type": "code",
   "source": [
    "y_true, y_pred, spear_corrs, pear_corrs = test_model(valence_model, energy_val_dl, DEVICE, regression_flag=True)\n",
    "\n",
    "print(\"Fine-Tuned AST Regressor on Valence Dataset\")\n",
    "get_regression_report(y_pred, y_true, spear_corrs, pear_corrs)"
   ],
   "id": "d872892657eb97a4",
   "outputs": [
    {
     "name": "stdout",
     "output_type": "stream",
     "text": [
      "Fine-Tuned AST Regressor on Valence Dataset\n",
      "\tAverageSpearman Correlation: -0.1054\n",
      "\tAverage Pearson Correlation: -0.1247\n",
      "\tMSE: 0.0635\n",
      "\tMAE: 0.2030\n",
      "\tRMSE: 0.2519\n",
      "\tMean Absolute Percentage Error (MAPE): 74.8112%\n",
      "\tR^2 Score: -0.0262\n",
      "\tExplained Variance Score: 0.0005\n"
     ]
    }
   ],
   "execution_count": 10
  },
  {
   "metadata": {},
   "cell_type": "markdown",
   "source": "#### Use the pretrained weights from the model trained on *fma_genre_spectrograms* and fine-tune a Regressor on the *danceability* Dataset \n",
   "id": "4be6fbe461deb602"
  },
  {
   "metadata": {
    "ExecuteTime": {
     "end_time": "2024-12-09T07:20:51.896789Z",
     "start_time": "2024-12-09T07:04:50.901094Z"
    }
   },
   "cell_type": "code",
   "source": [
    "print(f\"Free GPU Memory: {free_gpu_memory():.2f}%\")\n",
    "\n",
    "# Fine-Tuning for Danceability Regression\n",
    "danceability_data = SpectrogramDataset(\n",
    "    multitask_path,\n",
    "    class_mapping=CLASS_MAPPING,\n",
    "    train=True,\n",
    "    regression=3,  # Regression task for danceability\n",
    ")\n",
    "\n",
    "danceability_train_dl, danceability_val_dl = torch_train_val_split(\n",
    "    dataset=danceability_data, \n",
    "    batch_eval=BATCH_SIZE, \n",
    "    batch_train=BATCH_SIZE, \n",
    "    val_size=VAL_SIZE, \n",
    "    shuffle=True\n",
    ")\n",
    "\n",
    "# Initialize model for regression\n",
    "pretrained_backbone = ASTBackbone(\n",
    "    fstride=10,\n",
    "    tstride=10,\n",
    "    input_fdim=danceability_data[0][0].shape[1],\n",
    "    input_tdim=danceability_data[0][0].shape[0],\n",
    "    imagenet_pretrain=False,\n",
    "    model_size=model_size,\n",
    "    feature_size=1,  # Single output for regression\n",
    ")\n",
    "pretrained_backbone.load_state_dict(torch.load(pretrained_weights, weights_only=True), strict=False)\n",
    "# Freeze all but the last 2 Transformer layers\n",
    "pretrained_backbone.freeze_layers(unfrozen_layers=2)\n",
    "\n",
    "danceability_model = Regressor(pretrained_backbone).to(DEVICE)\n",
    "\n",
    "# Define optimizer after freezing layers to avoid updating frozen parameters\n",
    "danceability_optimizer = optim.Adam(\n",
    "    filter(lambda p: p.requires_grad, danceability_model.parameters()),  # Only trainable params\n",
    "    lr=LR\n",
    ")\n",
    "\n",
    "finetuned_danceability_weights = model_weights_path + model_size + \"_ast_danceability_finetuning.pth\"\n",
    "\n",
    "if LOAD_PRETRAINED:\n",
    "    danceability_model.load_state_dict(torch.load(finetuned_danceability_weights, map_location=DEVICE, weights_only=True))\n",
    "else:\n",
    "    # Fine-tune the model for Valence\n",
    "    train_losses, val_losses = train(\n",
    "        danceability_model,\n",
    "        danceability_train_dl,\n",
    "        danceability_val_dl,\n",
    "        danceability_optimizer,\n",
    "        EPOCHS,\n",
    "        device=DEVICE,\n",
    "        regression_flag=True,\n",
    "        patience=3,\n",
    "        save_path=finetuned_danceability_weights,\n",
    "    )\n",
    "    plot_train_val_losses(train_losses, val_losses, save_title=f\"assets/danceability_finetuned_ast_train_val_losses.png\")"
   ],
   "id": "526d9477a779f6eb",
   "outputs": [
    {
     "name": "stdout",
     "output_type": "stream",
     "text": [
      "Free GPU Memory: 95.96%\n",
      "Training started for model checkpoint...\n",
      "Epoch 1/100\n",
      "\tAverage Training Loss: 0.06918507736110319 (46.64s)\n",
      "\tAverage Validation Loss: 0.030522974773443172(4.47s)\n",
      "Epoch 2/100\n",
      "\tAverage Training Loss: 0.031831146349751316 (46.30s)\n",
      "\tAverage Validation Loss: 0.03073699802293309(4.50s)\n",
      "Epoch 3/100\n",
      "\tAverage Training Loss: 0.03100707669602295 (45.96s)\n",
      "\tAverage Validation Loss: 0.029775974673352072(4.49s)\n",
      "Epoch 4/100\n",
      "\tAverage Training Loss: 0.030621256329020304 (45.43s)\n",
      "\tAverage Validation Loss: 0.02780901308038405(4.46s)\n",
      "Epoch 5/100\n",
      "\tAverage Training Loss: 0.027076131079049236 (45.45s)\n",
      "\tAverage Validation Loss: 0.023876086476125886(5.06s)\n",
      "Epoch 6/100\n",
      "\tAverage Training Loss: 0.0220859102014683 (46.54s)\n",
      "\tAverage Validation Loss: 0.024404852717582668(4.48s)\n",
      "Epoch 7/100\n",
      "\tAverage Training Loss: 0.02189585938637631 (45.77s)\n",
      "\tAverage Validation Loss: 0.021046083586822664(4.51s)\n",
      "Epoch 8/100\n",
      "\tAverage Training Loss: 0.01905824447388604 (46.96s)\n",
      "\tAverage Validation Loss: 0.020945443073287606(4.47s)\n",
      "Epoch 9/100\n",
      "\tAverage Training Loss: 0.017437690716500566 (45.78s)\n",
      "\tAverage Validation Loss: 0.01900545271512653(4.46s)\n",
      "Epoch 10/100\n",
      "\tAverage Training Loss: 0.015509865720616241 (46.00s)\n",
      "\tAverage Validation Loss: 0.022617511068736867(4.47s)\n",
      "Epoch 11/100\n",
      "\tAverage Training Loss: 0.015665427327570217 (45.58s)\n",
      "\tAverage Validation Loss: 0.017308729783897952(4.45s)\n",
      "Epoch 12/100\n",
      "\tAverage Training Loss: 0.013820406765495716 (45.87s)\n",
      "\tAverage Validation Loss: 0.018444296355093166(4.64s)\n",
      "Epoch 13/100\n",
      "\tAverage Training Loss: 0.01406933471923117 (45.98s)\n",
      "\tAverage Validation Loss: 0.016491541522555053(4.47s)\n",
      "Epoch 14/100\n",
      "\tAverage Training Loss: 0.01320228987760776 (46.10s)\n",
      "\tAverage Validation Loss: 0.017295625127319778(4.52s)\n",
      "Epoch 15/100\n",
      "\tAverage Training Loss: 0.012665149718687862 (45.87s)\n",
      "\tAverage Validation Loss: 0.01743046223418787(4.58s)\n",
      "Epoch 16/100\n",
      "\tAverage Training Loss: 0.01169258127384613 (46.45s)\n",
      "\tAverage Validation Loss: 0.01648021143461977(4.50s)\n",
      "Epoch 17/100\n",
      "\tAverage Training Loss: 0.011626835507587982 (45.66s)\n",
      "\tAverage Validation Loss: 0.016502179176313803(4.58s)\n",
      "Epoch 18/100\n",
      "\tAverage Training Loss: 0.010995870923821247 (45.62s)\n",
      "\tAverage Validation Loss: 0.017392832403337315(4.52s)\n",
      "Epoch 19/100\n",
      "\tAverage Training Loss: 0.010305351191365152 (45.60s)\n",
      "\tAverage Validation Loss: 0.0214307187457702(4.52s)\n",
      "Early Stopping was activated.\n",
      "Training has been completed.\n",
      "\n"
     ]
    },
    {
     "data": {
      "text/plain": [
       "<Figure size 500x400 with 1 Axes>"
      ],
      "image/png": "[encoded data removed]"
     },
     "metadata": {},
     "output_type": "display_data"
    }
   ],
   "execution_count": 11
  },
  {
   "metadata": {
    "ExecuteTime": {
     "end_time": "2024-12-09T07:20:56.553423Z",
     "start_time": "2024-12-09T07:20:51.902384Z"
    }
   },
   "cell_type": "code",
   "source": [
    "y_true, y_pred, spear_corrs, pear_corrs = test_model(danceability_model, danceability_val_dl, DEVICE, regression_flag=True)\n",
    "\n",
    "print(\"Fine-Tuned AST Regressor on Danceability Dataset\")\n",
    "get_regression_report(y_pred, y_true, spear_corrs, pear_corrs)"
   ],
   "id": "3a8e90d74826b43e",
   "outputs": [
    {
     "name": "stdout",
     "output_type": "stream",
     "text": [
      "Fine-Tuned AST Regressor on Danceability Dataset\n",
      "\tAverage Spearman Correlation: 0.6556\n",
      "\tAverage Pearson Correlation: 0.6679\n",
      "\tMSE: 0.0214\n",
      "\tMAE: 0.1100\n",
      "\tRMSE: 0.1464\n",
      "\tMean Absolute Percentage Error (MAPE): 29.7846%\n",
      "\tR^2 Score: 0.2892\n",
      "\tExplained Variance Score: 0.4512\n"
     ]
    }
   ],
   "execution_count": 12
  },
  {
   "metadata": {},
   "cell_type": "code",
   "outputs": [],
   "execution_count": null,
   "source": "",
   "id": "52332edeecc46896"
  }
 ],
 "metadata": {
  "kernelspec": {
   "display_name": "Python 3 (ipykernel)",
   "name": "python3",
   "language": "python"
  },
  "language_info": {
   "codemirror_mode": {
    "name": "ipython",
    "version": 2
   },
   "file_extension": ".py",
   "mimetype": "text/x-python",
   "name": "python",
   "nbconvert_exporter": "python",
   "pygments_lexer": "ipython2",
   "version": "2.7.6"
  },
  "colab": {
   "provenance": [],
   "gpuType": "T4"
  },
  "accelerator": "GPU"
 },
 "nbformat": 4,
 "nbformat_minor": 5
}
