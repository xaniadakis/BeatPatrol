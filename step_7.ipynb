{
 "cells": [
  {
   "cell_type": "code",
   "metadata": {
    "ExecuteTime": {
     "end_time": "2024-12-05T14:21:01.841412Z",
     "start_time": "2024-12-05T14:20:58.952047Z"
    }
   },
   "source": [
    "from utils import CNNBackbone, ASTBackbone, get_device, SpectrogramDataset, CLASS_MAPPING, torch_train_val_split, \\\n",
    "    Classifier, train, set_seed, plot_train_val_losses, test_model, get_classification_report, \\\n",
    "    free_gpu_memory\n",
    "import torch\n",
    "import torch.optim as optim\n",
    "import numpy as np\n",
    "import os\n",
    "\n",
    "# DATA_PATH = \"/home/alex/Downloads/archive(1)/data/\"\n",
    "DATA_PATH = os.path.join(os.getcwd(), \"data/\")\n",
    "model_weights_path = os.path.join(os.getcwd(), \"model_weights/\")\n",
    "assets_path = os.path.join(os.getcwd(), \"assets/\")\n",
    "\n",
    "mel_specs_path = DATA_PATH + \"fma_genre_spectrograms/\"\n",
    "beat_mel_specs_path = DATA_PATH + \"fma_genre_spectrograms_beat/\"\n",
    "os.makedirs(model_weights_path, exist_ok=True)\n",
    "os.makedirs(assets_path, exist_ok=True)\n",
    "\n",
    "EPOCHS = 100\n",
    "LR = 1e-4\n",
    "BATCH_SIZE = 8\n",
    "RANDOM_SEED = 42\n",
    "RNN_HIDDEN_SIZE = 64\n",
    "NUM_CATEGORIES = 10\n",
    "cnn_in_channels = 1\n",
    "cnn_filters = [32, 64, 128, 256]\n",
    "cnn_out_feature_size = 256\n",
    "\n",
    "if torch.cuda.is_available():\n",
    "    print(f\"Detected GPU: {torch.cuda.get_device_name(0)}\")\n",
    "    print(f\"Free GPU Memory: {free_gpu_memory():.2f}%\")\n",
    "else:\n",
    "    print(\"CUDA is not available. No compatible GPU detected.\")\n",
    "DEVICE = get_device()"
   ],
   "outputs": [
    {
     "name": "stdout",
     "output_type": "stream",
     "text": [
      "CUDA is available!\n",
      "Detected GPU: NVIDIA GeForce RTX 4060 Laptop GPU\n",
      "Free GPU Memory: 100.00%\n"
     ]
    }
   ],
   "execution_count": 1
  },
  {
   "cell_type": "code",
   "metadata": {
    "ExecuteTime": {
     "end_time": "2024-12-05T14:21:10.813518Z",
     "start_time": "2024-12-05T14:21:06.495955Z"
    }
   },
   "source": [
    "mel_specs_test_data = SpectrogramDataset(mel_specs_path, class_mapping=CLASS_MAPPING, train=False)\n",
    "mel_specs_train_data = SpectrogramDataset(mel_specs_path, class_mapping=CLASS_MAPPING, train=True)\n",
    "\n",
    "mel_specs_test_dl, _ = torch_train_val_split(dataset=mel_specs_test_data, batch_eval=BATCH_SIZE, batch_train=BATCH_SIZE, val_size=.0, shuffle=False)\n",
    "mel_specs_train_dl, mel_specs_val_dl = torch_train_val_split(dataset=mel_specs_train_data, batch_eval=BATCH_SIZE, batch_train=BATCH_SIZE, val_size=.2, shuffle=True)"
   ],
   "outputs": [],
   "execution_count": 2
  },
  {
   "cell_type": "markdown",
   "metadata": {},
   "source": [
    "### Overfit CNN model on one batch to make sure everything works"
   ]
  },
  {
   "metadata": {
    "ExecuteTime": {
     "end_time": "2024-12-05T14:21:43.031379Z",
     "start_time": "2024-12-05T14:21:35.253318Z"
    }
   },
   "cell_type": "code",
   "source": [
    "# prepare batch data and input shape\n",
    "x_b1, _, _ = next(iter(mel_specs_train_dl))\n",
    "input_shape = x_b1[0].shape\n",
    "\n",
    "# init CNN backbone and classifier\n",
    "backbone = CNNBackbone(input_dims=input_shape, in_channels=cnn_in_channels, filters=cnn_filters, feature_size=cnn_out_feature_size)\n",
    "model = Classifier(num_classes=NUM_CATEGORIES, backbone=backbone).to(DEVICE)\n",
    "\n",
    "optimizer = optim.Adam(model.parameters(), lr=LR)\n",
    "\n",
    "# overfit model on a single batch\n",
    "train(model=model, train_loader=mel_specs_train_dl, val_loader=mel_specs_val_dl,\n",
    "        optimizer=optimizer, epochs=EPOCHS, device=DEVICE, overfit_batch=True)"
   ],
   "outputs": [
    {
     "name": "stdout",
     "output_type": "stream",
     "text": [
      "Training in overfitting mode...\n",
      "Epoch 1, Loss at training set: 2.371283769607544\n",
      "Epoch 20, Loss at training set: 0.0\n",
      "Epoch 40, Loss at training set: 0.0\n",
      "Epoch 60, Loss at training set: 0.0\n",
      "Epoch 80, Loss at training set: 0.0\n",
      "Epoch 100, Loss at training set: 0.0\n"
     ]
    }
   ],
   "execution_count": 3
  },
  {
   "metadata": {},
   "cell_type": "markdown",
   "source": "### Train CNN + Classifier on Spectrograms"
  },
  {
   "metadata": {
    "ExecuteTime": {
     "end_time": "2024-12-05T14:27:34.215780Z",
     "start_time": "2024-12-05T14:22:41.226073Z"
    }
   },
   "cell_type": "code",
   "source": [
    "# prepare batch data and input shape\n",
    "x_b1, _, _ = next(iter(mel_specs_train_dl))\n",
    "input_shape = x_b1[0].shape\n",
    "\n",
    "# init CNN backbone and classifier\n",
    "set_seed(RANDOM_SEED)\n",
    "backbone = CNNBackbone(input_dims=input_shape, in_channels=cnn_in_channels, filters=cnn_filters, feature_size=cnn_out_feature_size)\n",
    "set_seed(RANDOM_SEED)  \n",
    "model = Classifier(num_classes=NUM_CATEGORIES, backbone=backbone).to(device=DEVICE)\n",
    "\n",
    "optimizer = optim.Adam(model.parameters(), lr=LR)\n",
    "\n",
    "# train model\n",
    "train_losses, val_losses = train(\n",
    "    model=model, train_loader=mel_specs_train_dl, val_loader=mel_specs_val_dl,\n",
    "    optimizer=optimizer, epochs=EPOCHS, save_path=model_weights_path+\"cnn_genre_mel.pth\",\n",
    "    device=DEVICE, overfit_batch=False\n",
    ")\n",
    "\n",
    "# plot losses\n",
    "plot_train_val_losses(train_losses=train_losses, val_losses=val_losses, \n",
    "                      save_title=assets_path+\"cnn_genre_train_val_losses.png\")\n",
    "\n",
    "# test  model\n",
    "mel_y_true, mel_y_pred = test_model(model=model, dataloader=mel_specs_test_dl, device=DEVICE)"
   ],
   "outputs": [
    {
     "name": "stdout",
     "output_type": "stream",
     "text": [
      "Training started for model /home/vag/Documents/DSML/PatternRecognition/BeatPatrol/model_weights/cnn_genre_mel...\n",
      "Epoch 1/100\n",
      "\tAverage Training Loss: 10.015889771056898 (16.79s)\n",
      "\tAverage Validation Loss: 4.689029459295602(1.19s)\n",
      "Epoch 2/100\n",
      "\tAverage Training Loss: 4.579921068309189 (16.66s)\n",
      "\tAverage Validation Loss: 4.6993592730883895(1.18s)\n",
      "Epoch 3/100\n",
      "\tAverage Training Loss: 3.662485839484574 (17.62s)\n",
      "\tAverage Validation Loss: 4.0066069539250995(1.19s)\n",
      "Epoch 4/100\n",
      "\tAverage Training Loss: 3.07427168950374 (16.81s)\n",
      "\tAverage Validation Loss: 3.069829967515222(1.32s)\n",
      "Epoch 5/100\n",
      "\tAverage Training Loss: 2.199685014945604 (16.83s)\n",
      "\tAverage Validation Loss: 3.332327867376393(1.18s)\n",
      "Epoch 6/100\n",
      "\tAverage Training Loss: 2.270901507113403 (16.91s)\n",
      "\tAverage Validation Loss: 3.0931519444646507(1.17s)\n",
      "Epoch 7/100\n",
      "\tAverage Training Loss: 1.9358924384757037 (16.61s)\n",
      "\tAverage Validation Loss: 2.8728080271133063(1.17s)\n",
      "Epoch 8/100\n",
      "\tAverage Training Loss: 1.4662943618831696 (16.69s)\n",
      "\tAverage Validation Loss: 5.925812575323828(1.19s)\n",
      "Epoch 9/100\n",
      "\tAverage Training Loss: 1.336860865435172 (16.53s)\n",
      "\tAverage Validation Loss: 3.1105296683722528(1.17s)\n",
      "Epoch 10/100\n",
      "\tAverage Training Loss: 0.8316122484252308 (16.71s)\n",
      "\tAverage Validation Loss: 3.5763978999236534(1.28s)\n",
      "Epoch 11/100\n",
      "\tAverage Training Loss: 0.7890571216645437 (16.69s)\n",
      "\tAverage Validation Loss: 2.770550833693866(1.30s)\n",
      "Epoch 12/100\n",
      "\tAverage Training Loss: 0.6747917376410264 (17.32s)\n",
      "\tAverage Validation Loss: 3.6520004169694307(1.17s)\n",
      "Epoch 13/100\n",
      "\tAverage Training Loss: 0.8814132469746554 (17.54s)\n",
      "\tAverage Validation Loss: 4.909642012982533(1.28s)\n",
      "Epoch 14/100\n",
      "\tAverage Training Loss: 0.3063310624001491 (17.21s)\n",
      "\tAverage Validation Loss: 3.3283608771603683(1.17s)\n",
      "Epoch 15/100\n",
      "\tAverage Training Loss: 0.16152405878503753 (16.86s)\n",
      "\tAverage Validation Loss: 3.5120289541524032(1.17s)\n",
      "Epoch 16/100\n",
      "\tAverage Training Loss: 0.2456739453474882 (16.54s)\n",
      "\tAverage Validation Loss: 3.3938411155651353(1.17s)\n",
      "Early Stopping was activated.\n",
      "Training has been completed.\n",
      "\n"
     ]
    },
    {
     "data": {
      "text/plain": [
       "<Figure size 500x400 with 1 Axes>"
      ],
      "image/png": "[encoded data removed]"
     },
     "metadata": {},
     "output_type": "display_data"
    }
   ],
   "execution_count": 4
  },
  {
   "cell_type": "code",
   "metadata": {
    "ExecuteTime": {
     "end_time": "2024-12-05T14:27:48.800318Z",
     "start_time": "2024-12-05T14:27:48.791309Z"
    }
   },
   "source": [
    "get_classification_report(np.hstack(mel_y_pred), np.hstack(mel_y_true))"
   ],
   "outputs": [
    {
     "name": "stdout",
     "output_type": "stream",
     "text": [
      "              precision    recall  f1-score   support\n",
      "\n",
      "           0       0.11      0.03      0.04        40\n",
      "           1       0.44      0.68      0.53        40\n",
      "           2       0.49      0.39      0.43        80\n",
      "           3       0.40      0.38      0.39        80\n",
      "           4       0.88      0.17      0.29        40\n",
      "           5       0.12      0.12      0.12        40\n",
      "           6       0.65      0.38      0.48        78\n",
      "           7       0.09      0.15      0.12        40\n",
      "           8       0.32      0.46      0.38       103\n",
      "           9       0.20      0.35      0.25        34\n",
      "\n",
      "    accuracy                           0.34       575\n",
      "   macro avg       0.37      0.31      0.30       575\n",
      "weighted avg       0.40      0.34      0.34       575\n",
      "\n",
      "Micro-average precision: 0.34\n",
      "Micro-average recall: 0.34\n",
      "Micro-average F1-score: 0.34\n"
     ]
    }
   ],
   "execution_count": 5
  },
  {
   "metadata": {},
   "cell_type": "markdown",
   "source": "### Overfit AST + Classifier on one batch to make sure everything works\n"
  },
  {
   "cell_type": "code",
   "metadata": {
    "ExecuteTime": {
     "end_time": "2024-12-05T08:04:01.447146Z",
     "start_time": "2024-12-05T08:02:12.609483Z"
    }
   },
   "source": [
    "\n",
    "# prepare batch data and input shape\n",
    "x_b1, _, _ = next(iter(mel_specs_train_dl))\n",
    "input_shape = x_b1[0].shape\n",
    "\n",
    "# init AST backbone and classifier\n",
    "backbone = ASTBackbone(\n",
    "    fstride=10,                     # Frequency stride\n",
    "    tstride=10,                     # Time stride\n",
    "    input_fdim=input_shape[1],      # Number of frequency bins \n",
    "    input_tdim=input_shape[0],      # Number of time frames \n",
    "    imagenet_pretrain=True,         # Use ImageNet pretraining\n",
    "    model_size='tiny224',           # Model size \n",
    "    feature_size=NUM_CATEGORIES     # Output feature size \n",
    ")\n",
    "set_seed(RANDOM_SEED)  \n",
    "model = Classifier(num_classes=NUM_CATEGORIES, backbone=backbone).to(DEVICE)\n",
    "\n",
    "optimizer = optim.Adam(model.parameters(), lr=LR)\n",
    "\n",
    "# overfit model on a couple of batches\n",
    "train(model=model, train_loader=mel_specs_train_dl, val_loader=mel_specs_val_dl,\n",
    "        optimizer=optimizer, epochs=100, device=DEVICE, overfit_batch=True)"
   ],
   "outputs": [
    {
     "name": "stdout",
     "output_type": "stream",
     "text": [
      "Allocated Memory: 484.11279296875 MB\n",
      "Cached Memory: 1400.0 MB\n",
      "Free Memory: 6524.9375 MB\n",
      "Allocated Memory: 484.11279296875 MB\n",
      "Cached Memory: 1400.0 MB\n",
      "Free Memory: 6524.9375 MB\n",
      "Training in overfitting mode...\n",
      "Epoch 1, Loss at training set: 2.4492297172546387\n",
      "Epoch 20, Loss at training set: 0.522563099861145\n",
      "Epoch 40, Loss at training set: 0.14460714161396027\n",
      "Epoch 60, Loss at training set: 0.09949078410863876\n",
      "Epoch 80, Loss at training set: 0.08165773004293442\n",
      "Epoch 100, Loss at training set: 0.06937512755393982\n",
      "Epoch 120, Loss at training set: 0.0596906840801239\n",
      "Epoch 140, Loss at training set: 0.051758963614702225\n",
      "Epoch 160, Loss at training set: 0.045230381190776825\n",
      "Epoch 180, Loss at training set: 0.039757538586854935\n",
      "Epoch 200, Loss at training set: 0.03516313433647156\n",
      "Epoch 220, Loss at training set: 0.03128129988908768\n",
      "Epoch 240, Loss at training set: 0.02798541635274887\n",
      "Epoch 260, Loss at training set: 0.02516191452741623\n",
      "Epoch 280, Loss at training set: 0.022728368639945984\n",
      "Epoch 300, Loss at training set: 0.020634811371564865\n",
      "Epoch 320, Loss at training set: 0.018792685121297836\n",
      "Epoch 340, Loss at training set: 0.01717531308531761\n",
      "Epoch 360, Loss at training set: 0.01577409915626049\n",
      "Epoch 380, Loss at training set: 0.014508157968521118\n",
      "Epoch 400, Loss at training set: 0.01340144220739603\n"
     ]
    }
   ],
   "execution_count": 23
  },
  {
   "metadata": {},
   "cell_type": "markdown",
   "source": "### Train AST + Classifier on Spectrograms"
  },
  {
   "metadata": {
    "ExecuteTime": {
     "end_time": "2024-12-05T14:43:43.648568Z",
     "start_time": "2024-12-05T14:32:05.701104Z"
    }
   },
   "cell_type": "code",
   "source": [
    "print(f\"Free GPU Memory: {free_gpu_memory():.2f}%\")\n",
    "# prepare batch data and input shape\n",
    "x_b1, _, _ = next(iter(mel_specs_train_dl))\n",
    "input_shape = x_b1[0].shape\n",
    "\n",
    "set_seed(RANDOM_SEED)\n",
    "\n",
    "# init AST backbone and classifier\n",
    "backbone = ASTBackbone(\n",
    "    fstride=10,                     # Frequency stride\n",
    "    tstride=10,                     # Time stride\n",
    "    input_fdim=input_shape[1],      # Number of frequency bins \n",
    "    input_tdim=input_shape[0],      # Number of time frames \n",
    "    imagenet_pretrain=True,         # Use ImageNet pretraining\n",
    "    model_size='tiny224',           # Model size \n",
    "    feature_size=NUM_CATEGORIES     # Output feature size \n",
    ")\n",
    "set_seed(RANDOM_SEED)  \n",
    "model = Classifier(num_classes=NUM_CATEGORIES, backbone=backbone).to(device=DEVICE)\n",
    "\n",
    "optimizer = optim.Adam(model.parameters(), lr=LR)\n",
    "\n",
    "# train model\n",
    "train_losses, val_losses = train(\n",
    "    model=model, train_loader=mel_specs_train_dl, val_loader=mel_specs_val_dl, optimizer=optimizer, \n",
    "    epochs=EPOCHS, save_path=model_weights_path+\"ast_genre_mel.pth\", device=DEVICE, \n",
    "    overfit_batch=False, regression_flag=False\n",
    ")\n",
    "\n",
    "# plot losses\n",
    "plot_train_val_losses(train_losses=train_losses, val_losses=val_losses, \n",
    "                      save_title=assets_path+\"ast_genre_train_val_losses.png\")\n",
    "\n",
    "# test  model\n",
    "mel_y_true, mel_y_pred = test_model(model=model, dataloader=mel_specs_test_dl, device=DEVICE)"
   ],
   "outputs": [
    {
     "name": "stdout",
     "output_type": "stream",
     "text": [
      "Free GPU Memory: 91.57%\n",
      "Training started for model /home/vag/Documents/DSML/PatternRecognition/BeatPatrol/model_weights/ast_genre_mel...\n",
      "Epoch 1/100\n",
      "\tAverage Training Loss: 2.1096687094989792 (61.54s)\n",
      "\tAverage Validation Loss: 1.8796081460755447(6.51s)\n",
      "Epoch 2/100\n",
      "\tAverage Training Loss: 1.8243313305305713 (64.73s)\n",
      "\tAverage Validation Loss: 1.814831637102982(6.38s)\n",
      "Epoch 3/100\n",
      "\tAverage Training Loss: 1.662108159168458 (61.76s)\n",
      "\tAverage Validation Loss: 1.684679232794663(6.40s)\n",
      "Epoch 4/100\n",
      "\tAverage Training Loss: 1.5111190031617234 (61.41s)\n",
      "\tAverage Validation Loss: 1.6287472422780662(6.81s)\n",
      "Epoch 5/100\n",
      "\tAverage Training Loss: 1.3048071376173012 (64.15s)\n",
      "\tAverage Validation Loss: 1.6263568586316601(6.42s)\n",
      "Epoch 6/100\n",
      "\tAverage Training Loss: 1.0257007513211402 (62.74s)\n",
      "\tAverage Validation Loss: 1.8469096401642109(6.43s)\n",
      "Epoch 7/100\n",
      "\tAverage Training Loss: 0.7418563698793387 (61.60s)\n",
      "\tAverage Validation Loss: 1.8334126945199638(6.55s)\n",
      "Epoch 8/100\n",
      "\tAverage Training Loss: 0.4877336249077991 (61.57s)\n",
      "\tAverage Validation Loss: 2.0981122738328475(6.37s)\n",
      "Epoch 9/100\n",
      "\tAverage Training Loss: 0.3365101306275888 (62.12s)\n",
      "\tAverage Validation Loss: 2.119428828872483(6.43s)\n",
      "Epoch 10/100\n",
      "\tAverage Training Loss: 0.15398018260474328 (62.31s)\n",
      "\tAverage Validation Loss: 2.371210139373253(6.49s)\n",
      "Early Stopping was activated.\n",
      "Training has been completed.\n",
      "\n"
     ]
    },
    {
     "data": {
      "text/plain": [
       "<Figure size 500x400 with 1 Axes>"
      ],
      "image/png": "[encoded data removed]"
     },
     "metadata": {},
     "output_type": "display_data"
    }
   ],
   "execution_count": 7
  },
  {
   "metadata": {
    "ExecuteTime": {
     "end_time": "2024-12-05T14:43:55.222495Z",
     "start_time": "2024-12-05T14:43:55.213086Z"
    }
   },
   "cell_type": "code",
   "source": "get_classification_report(np.hstack(mel_y_pred), np.hstack(mel_y_true))",
   "outputs": [
    {
     "name": "stdout",
     "output_type": "stream",
     "text": [
      "              precision    recall  f1-score   support\n",
      "\n",
      "           0       0.38      0.20      0.26        40\n",
      "           1       0.61      0.55      0.58        40\n",
      "           2       0.63      0.41      0.50        80\n",
      "           3       0.37      0.57      0.45        80\n",
      "           4       0.39      0.70      0.50        40\n",
      "           5       0.20      0.20      0.20        40\n",
      "           6       0.45      0.65      0.53        78\n",
      "           7       0.12      0.05      0.07        40\n",
      "           8       0.41      0.30      0.35       103\n",
      "           9       0.25      0.18      0.21        34\n",
      "\n",
      "    accuracy                           0.41       575\n",
      "   macro avg       0.38      0.38      0.36       575\n",
      "weighted avg       0.41      0.41      0.39       575\n",
      "\n",
      "Micro-average precision: 0.41\n",
      "Micro-average recall: 0.41\n",
      "Micro-average F1-score: 0.41\n"
     ]
    }
   ],
   "execution_count": 8
  },
  {
   "metadata": {},
   "cell_type": "code",
   "outputs": [],
   "execution_count": null,
   "source": ""
  }
 ],
 "metadata": {
  "kernelspec": {
   "display_name": "pattrec1",
   "language": "python",
   "name": "python3"
  },
  "language_info": {
   "codemirror_mode": {
    "name": "ipython",
    "version": 3
   },
   "file_extension": ".py",
   "mimetype": "text/x-python",
   "name": "python",
   "nbconvert_exporter": "python",
   "pygments_lexer": "ipython3",
   "version": "3.9.20"
  }
 },
 "nbformat": 4,
 "nbformat_minor": 2
}
