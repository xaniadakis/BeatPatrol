{
  "cells": [
    {
      "cell_type": "markdown",
      "metadata": {
        "id": "_jwpnhQ7ePBl"
      },
      "source": [
        "### Dependencies"
      ]
    },
    {
      "cell_type": "code",
      "execution_count": 1,
      "metadata": {
        "colab": {
          "base_uri": "https://localhost:8080/"
        },
        "id": "krCFDszSePBn",
        "outputId": "2827801f-9ac9-4d68-f488-5717ba827cb3"
      },
      "outputs": [
        {
          "data": {
            "text/plain": [
              "(None, None)"
            ]
          },
          "execution_count": 1,
          "metadata": {},
          "output_type": "execute_result"
        }
      ],
      "source": [
        "from utils import MultiTaskDataset, MultiTaskClassifier, ASTBackbone, get_device, SpectrogramDataset, CLASS_MAPPING, set_seed, test_model, create_folder, train_multi_task_learning\n",
        "import torch.optim as optim\n",
        "import numpy as np\n",
        "import torch\n",
        "import matplotlib.pyplot as plt\n",
        "from torch.utils.data import DataLoader, random_split\n",
        "\n",
        "DATA_PATH = \"/home/alex/Downloads/archive(2)/data/\"\n",
        "EPOCHS = 40\n",
        "LR = 1e-2\n",
        "BATCH_SIZE = 8\n",
        "RANDOM_SEED = 42\n",
        "NUM_CATEGORIES = 1\n",
        "DEVICE = get_device()\n",
        "\n",
        "\n",
        "create_folder(\"model_weights\"), create_folder(\"assets\")"
      ]
    },
    {
      "cell_type": "markdown",
      "metadata": {
        "id": "7dyutX2MePBo"
      },
      "source": [
        "### Data preparation"
      ]
    },
    {
      "cell_type": "code",
      "execution_count": 2,
      "metadata": {
        "id": "vdULcWrXePBo"
      },
      "outputs": [],
      "source": [
        "valence_data = SpectrogramDataset(DATA_PATH + \"multitask_dataset/\", class_mapping=CLASS_MAPPING, train=True, regression=1)\n",
        "energy_data = SpectrogramDataset(DATA_PATH + \"multitask_dataset/\", class_mapping=CLASS_MAPPING, train=True, regression=2)\n",
        "dancability_data = SpectrogramDataset(DATA_PATH + \"multitask_dataset/\", class_mapping=CLASS_MAPPING, train=True, regression=3)"
      ]
    },
    {
      "cell_type": "code",
      "execution_count": 3,
      "metadata": {
        "colab": {
          "base_uri": "https://localhost:8080/"
        },
        "id": "dlFlbsUnePBp",
        "outputId": "07c05688-9ac7-418f-a3cb-500584fd06e8"
      },
      "outputs": [
        {
          "data": {
            "text/plain": [
              "array([[0.578, 0.973, 0.873],\n",
              "       [0.839, 0.782, 0.655],\n",
              "       [0.587, 0.956, 0.204],\n",
              "       ...,\n",
              "       [0.337, 0.592, 0.316],\n",
              "       [0.536, 0.404, 0.366],\n",
              "       [0.477, 0.949, 0.431]])"
            ]
          },
          "execution_count": 3,
          "metadata": {},
          "output_type": "execute_result"
        }
      ],
      "source": [
        "multi_task_labels = []\n",
        "for valence_y, energy_y, dancability_y in zip(valence_data.labels, energy_data.labels, dancability_data.labels):\n",
        "    multi_task_labels.append((valence_y, energy_y, dancability_y))\n",
        "np.array(multi_task_labels)"
      ]
    },
    {
      "cell_type": "code",
      "execution_count": 4,
      "metadata": {
        "id": "BsLOm0rlePBp"
      },
      "outputs": [],
      "source": [
        "multi_task_dataset = MultiTaskDataset(features=valence_data.feats, labels=np.array(multi_task_labels))\n",
        "\n",
        "# split data into train and val set\n",
        "train_size = int(0.8 * len(multi_task_dataset))\n",
        "val_size = len(multi_task_dataset) - train_size\n",
        "train_dataset, val_dataset = random_split(multi_task_dataset, [train_size, val_size])\n",
        "\n",
        "train_dl = DataLoader(train_dataset, batch_size=BATCH_SIZE, shuffle=True)\n",
        "val_dl = DataLoader(val_dataset, batch_size=BATCH_SIZE, shuffle=False)"
      ]
    },
    {
      "cell_type": "markdown",
      "metadata": {
        "id": "ukqP-xjwePBq"
      },
      "source": [
        "### Overfit model on one batch to make sure everything works"
      ]
    },
    {
      "cell_type": "code",
      "execution_count": 5,
      "metadata": {
        "colab": {
          "base_uri": "https://localhost:8080/"
        },
        "id": "KbPbKFIzePBq",
        "outputId": "eae0ebd9-a4e6-4c29-c5b9-9f53956192ec"
      },
      "outputs": [
        {
          "name": "stdout",
          "output_type": "stream",
          "text": [
            "Epoch 1\n",
            "\tTotal Loss at training set: 0.7186497449874878\n",
            "\t0.35820311307907104, 0.14091750979423523, 0.21952912211418152\n",
            "Epoch 5\n",
            "\tTotal Loss at training set: 0.5528228282928467\n",
            "\t0.1660214364528656, 0.32223770022392273, 0.06456369906663895\n",
            "Epoch 10\n",
            "\tTotal Loss at training set: 0.3833265006542206\n",
            "\t0.07099781930446625, 0.23726999759674072, 0.07505866140127182\n",
            "Epoch 15\n",
            "\tTotal Loss at training set: 0.31127363443374634\n",
            "\t0.062445178627967834, 0.1584794819355011, 0.0903489887714386\n",
            "Epoch 20\n",
            "\tTotal Loss at training set: 0.29016512632369995\n",
            "\t0.06424452364444733, 0.17305240035057068, 0.05286818742752075\n",
            "Epoch 25\n",
            "\tTotal Loss at training set: 0.23960676789283752\n",
            "\t0.048629775643348694, 0.1310407966375351, 0.05993620306253433\n",
            "Epoch 30\n",
            "\tTotal Loss at training set: 0.2175665944814682\n",
            "\t0.04794362187385559, 0.12798015773296356, 0.041642818599939346\n",
            "Epoch 35\n",
            "\tTotal Loss at training set: 0.19896823167800903\n",
            "\t0.04433393478393555, 0.11097582429647446, 0.04365846514701843\n",
            "Epoch 40\n",
            "\tTotal Loss at training set: 0.18840517103672028\n",
            "\t0.04687763378024101, 0.10662901401519775, 0.03489851951599121\n",
            "Epoch 45\n",
            "\tTotal Loss at training set: 0.17951038479804993\n",
            "\t0.044375211000442505, 0.09795710444450378, 0.037178076803684235\n",
            "Epoch 50\n",
            "\tTotal Loss at training set: 0.17311790585517883\n",
            "\t0.04475904256105423, 0.09512405097484589, 0.03323479741811752\n"
          ]
        }
      ],
      "source": [
        "set_seed(RANDOM_SEED)\n",
        "backbone = ASTBackbone(\n",
        "    fstride=10,\n",
        "    tstride=10,\n",
        "    input_fdim=dancability_data[0][0].shape[1],\n",
        "    input_tdim=dancability_data[0][0].shape[0],\n",
        "    imagenet_pretrain=False,\n",
        "    model_size='tiny224',\n",
        "    feature_size=1\n",
        ")\n",
        "\n",
        "set_seed(RANDOM_SEED)\n",
        "model = MultiTaskClassifier(num_tasks=3, backbone=backbone, task_feature_sizes=[1, 1, 1])\n",
        "optimizer = torch.optim.Adam(model.parameters(), lr=1e-2)\n",
        "scheduler = torch.optim.lr_scheduler.StepLR(optimizer, step_size=10, gamma=0.7)  # Every 10 epochs, reduce LR by factor of 0.7\n",
        "inputs, targets, lengths = next(iter(train_dl))\n",
        "inputs, targets = inputs.to(DEVICE), targets.to(DEVICE)\n",
        "model.to(DEVICE)\n",
        "for epoch in range(50):\n",
        "    model.train()\n",
        "    optimizer.zero_grad()\n",
        "    loss, losses, logits = model(inputs.float(), targets.float())\n",
        "    loss.backward()\n",
        "    # clip gradients\n",
        "    torch.nn.utils.clip_grad_norm_(model.parameters(), max_norm=1.0)\n",
        "    optimizer.step()\n",
        "    scheduler.step()\n",
        "    if epoch == 0 or (epoch+1)%5 == 0:\n",
        "        loss1, loss2, loss3 = losses\n",
        "        print(f'Epoch {epoch+1}\\n\\tTotal Loss at training set: {loss.item()}\\n\\t{loss1.item()}, {loss2.item()}, {loss3.item()}')\n"
      ]
    },
    {
      "cell_type": "markdown",
      "metadata": {
        "id": "7fpTXq9RePBr"
      },
      "source": [
        "### Train Randomly Initialized Model"
      ]
    },
    {
      "cell_type": "code",
      "execution_count": 6,
      "metadata": {
        "colab": {
          "base_uri": "https://localhost:8080/"
        },
        "id": "TlegQAG1ePBs",
        "outputId": "5153c8f1-74a2-41be-c00e-903dfbb196e3"
      },
      "outputs": [
        {
          "name": "stdout",
          "output_type": "stream",
          "text": [
            "Training started for model model_weights/ast_multi_task_best...\n"
          ]
        },
        {
          "name": "stderr",
          "output_type": "stream",
          "text": [
            "100%|██████████| 113/113 [01:01<00:00,  1.85it/s]\n"
          ]
        },
        {
          "name": "stdout",
          "output_type": "stream",
          "text": [
            "Epoch 1\n",
            "Training Metrics\n",
            "\t\tAverage Total Loss:  0.76\n",
            "\t\tAverage Valence Loss:  0.52\n",
            "\t\tAverage Energy Loss:  0.15\n",
            "\t\tAverage Danceability Loss:  0.09\n",
            "Evaluation Metrics\n",
            "\t\tAverage Total Loss:  0.16\n",
            "\t\tAverage Valence Loss:  0.06\n",
            "\t\tAverage Energy Loss:  0.07\n",
            "\t\tAverage Danceability Loss:  0.03\n"
          ]
        },
        {
          "name": "stderr",
          "output_type": "stream",
          "text": [
            "100%|██████████| 113/113 [01:01<00:00,  1.83it/s]\n"
          ]
        },
        {
          "name": "stdout",
          "output_type": "stream",
          "text": [
            "Epoch 2\n",
            "Training Metrics\n",
            "\t\tAverage Total Loss:  0.18\n",
            "\t\tAverage Valence Loss:  0.08\n",
            "\t\tAverage Energy Loss:  0.07\n",
            "\t\tAverage Danceability Loss:  0.03\n",
            "Evaluation Metrics\n",
            "\t\tAverage Total Loss:  0.16\n",
            "\t\tAverage Valence Loss:  0.06\n",
            "\t\tAverage Energy Loss:  0.07\n",
            "\t\tAverage Danceability Loss:  0.03\n"
          ]
        },
        {
          "name": "stderr",
          "output_type": "stream",
          "text": [
            "100%|██████████| 113/113 [01:02<00:00,  1.82it/s]\n"
          ]
        },
        {
          "name": "stdout",
          "output_type": "stream",
          "text": [
            "Epoch 3\n",
            "Training Metrics\n",
            "\t\tAverage Total Loss:  0.17\n",
            "\t\tAverage Valence Loss:  0.07\n",
            "\t\tAverage Energy Loss:  0.07\n",
            "\t\tAverage Danceability Loss:  0.03\n",
            "Evaluation Metrics\n",
            "\t\tAverage Total Loss:  0.16\n",
            "\t\tAverage Valence Loss:  0.07\n",
            "\t\tAverage Energy Loss:  0.07\n",
            "\t\tAverage Danceability Loss:  0.03\n"
          ]
        },
        {
          "name": "stderr",
          "output_type": "stream",
          "text": [
            "100%|██████████| 113/113 [01:01<00:00,  1.82it/s]\n"
          ]
        },
        {
          "name": "stdout",
          "output_type": "stream",
          "text": [
            "Epoch 4\n",
            "Training Metrics\n",
            "\t\tAverage Total Loss:  0.17\n",
            "\t\tAverage Valence Loss:  0.07\n",
            "\t\tAverage Energy Loss:  0.07\n",
            "\t\tAverage Danceability Loss:  0.03\n",
            "Evaluation Metrics\n",
            "\t\tAverage Total Loss:  0.15\n",
            "\t\tAverage Valence Loss:  0.06\n",
            "\t\tAverage Energy Loss:  0.07\n",
            "\t\tAverage Danceability Loss:  0.03\n"
          ]
        },
        {
          "name": "stderr",
          "output_type": "stream",
          "text": [
            "100%|██████████| 113/113 [01:01<00:00,  1.82it/s]\n"
          ]
        },
        {
          "name": "stdout",
          "output_type": "stream",
          "text": [
            "Epoch 5\n",
            "Training Metrics\n",
            "\t\tAverage Total Loss:  0.17\n",
            "\t\tAverage Valence Loss:  0.07\n",
            "\t\tAverage Energy Loss:  0.07\n",
            "\t\tAverage Danceability Loss:  0.03\n",
            "Evaluation Metrics\n",
            "\t\tAverage Total Loss:  0.17\n",
            "\t\tAverage Valence Loss:  0.07\n",
            "\t\tAverage Energy Loss:  0.07\n",
            "\t\tAverage Danceability Loss:  0.03\n"
          ]
        },
        {
          "name": "stderr",
          "output_type": "stream",
          "text": [
            "100%|██████████| 113/113 [01:02<00:00,  1.82it/s]\n"
          ]
        },
        {
          "name": "stdout",
          "output_type": "stream",
          "text": [
            "Epoch 6\n",
            "Training Metrics\n",
            "\t\tAverage Total Loss:  0.17\n",
            "\t\tAverage Valence Loss:  0.07\n",
            "\t\tAverage Energy Loss:  0.07\n",
            "\t\tAverage Danceability Loss:  0.03\n",
            "Evaluation Metrics\n",
            "\t\tAverage Total Loss:  0.15\n",
            "\t\tAverage Valence Loss:  0.06\n",
            "\t\tAverage Energy Loss:  0.07\n",
            "\t\tAverage Danceability Loss:  0.03\n"
          ]
        },
        {
          "name": "stderr",
          "output_type": "stream",
          "text": [
            "100%|██████████| 113/113 [01:01<00:00,  1.83it/s]\n"
          ]
        },
        {
          "name": "stdout",
          "output_type": "stream",
          "text": [
            "Epoch 7\n",
            "Training Metrics\n",
            "\t\tAverage Total Loss:  0.17\n",
            "\t\tAverage Valence Loss:  0.07\n",
            "\t\tAverage Energy Loss:  0.07\n",
            "\t\tAverage Danceability Loss:  0.03\n",
            "Evaluation Metrics\n",
            "\t\tAverage Total Loss:  0.16\n",
            "\t\tAverage Valence Loss:  0.06\n",
            "\t\tAverage Energy Loss:  0.07\n",
            "\t\tAverage Danceability Loss:  0.03\n"
          ]
        },
        {
          "name": "stderr",
          "output_type": "stream",
          "text": [
            "100%|██████████| 113/113 [01:01<00:00,  1.83it/s]\n"
          ]
        },
        {
          "name": "stdout",
          "output_type": "stream",
          "text": [
            "Epoch 8\n",
            "Training Metrics\n",
            "\t\tAverage Total Loss:  0.17\n",
            "\t\tAverage Valence Loss:  0.07\n",
            "\t\tAverage Energy Loss:  0.07\n",
            "\t\tAverage Danceability Loss:  0.03\n",
            "Evaluation Metrics\n",
            "\t\tAverage Total Loss:  0.16\n",
            "\t\tAverage Valence Loss:  0.06\n",
            "\t\tAverage Energy Loss:  0.07\n",
            "\t\tAverage Danceability Loss:  0.03\n"
          ]
        },
        {
          "name": "stderr",
          "output_type": "stream",
          "text": [
            "100%|██████████| 113/113 [01:01<00:00,  1.83it/s]\n"
          ]
        },
        {
          "name": "stdout",
          "output_type": "stream",
          "text": [
            "Epoch 9\n",
            "Training Metrics\n",
            "\t\tAverage Total Loss:  0.17\n",
            "\t\tAverage Valence Loss:  0.07\n",
            "\t\tAverage Energy Loss:  0.07\n",
            "\t\tAverage Danceability Loss:  0.03\n",
            "Evaluation Metrics\n",
            "\t\tAverage Total Loss:  0.16\n",
            "\t\tAverage Valence Loss:  0.06\n",
            "\t\tAverage Energy Loss:  0.07\n",
            "\t\tAverage Danceability Loss:  0.03\n"
          ]
        },
        {
          "name": "stderr",
          "output_type": "stream",
          "text": [
            "100%|██████████| 113/113 [01:01<00:00,  1.83it/s]\n"
          ]
        },
        {
          "name": "stdout",
          "output_type": "stream",
          "text": [
            "Epoch 10\n",
            "Training Metrics\n",
            "\t\tAverage Total Loss:  0.17\n",
            "\t\tAverage Valence Loss:  0.07\n",
            "\t\tAverage Energy Loss:  0.07\n",
            "\t\tAverage Danceability Loss:  0.03\n",
            "Evaluation Metrics\n",
            "\t\tAverage Total Loss:  0.16\n",
            "\t\tAverage Valence Loss:  0.06\n",
            "\t\tAverage Energy Loss:  0.07\n",
            "\t\tAverage Danceability Loss:  0.03\n"
          ]
        },
        {
          "name": "stderr",
          "output_type": "stream",
          "text": [
            "100%|██████████| 113/113 [01:01<00:00,  1.82it/s]\n"
          ]
        },
        {
          "name": "stdout",
          "output_type": "stream",
          "text": [
            "Epoch 11\n",
            "Training Metrics\n",
            "\t\tAverage Total Loss:  0.17\n",
            "\t\tAverage Valence Loss:  0.07\n",
            "\t\tAverage Energy Loss:  0.07\n",
            "\t\tAverage Danceability Loss:  0.03\n",
            "Evaluation Metrics\n",
            "\t\tAverage Total Loss:  0.15\n",
            "\t\tAverage Valence Loss:  0.06\n",
            "\t\tAverage Energy Loss:  0.07\n",
            "\t\tAverage Danceability Loss:  0.03\n",
            "Early Stopping was activated.\n",
            "Training has been completed.\n",
            "\n"
          ]
        }
      ],
      "source": [
        "set_seed(RANDOM_SEED)\n",
        "backbone = ASTBackbone(\n",
        "    fstride=10,\n",
        "    tstride=10,\n",
        "    input_fdim=dancability_data[0][0].shape[1],\n",
        "    input_tdim=dancability_data[0][0].shape[0],\n",
        "    imagenet_pretrain=False,\n",
        "    model_size='tiny224',\n",
        "    feature_size=1\n",
        ")\n",
        "\n",
        "set_seed(RANDOM_SEED)\n",
        "model = MultiTaskClassifier(num_tasks=3, backbone=backbone, task_feature_sizes=[1, 1, 1])\n",
        "\n",
        "optimizer = torch.optim.Adam(model.parameters(), lr=LR)\n",
        "scheduler = torch.optim.lr_scheduler.CosineAnnealingLR(optimizer, T_max=EPOCHS, eta_min=1e-10)\n",
        "\n",
        "train_losses, val_losses = train_multi_task_learning(epochs=EPOCHS,\n",
        "                          device=DEVICE,\n",
        "                          train_dl=train_dl,\n",
        "                          val_dl=val_dl,\n",
        "                          model=model,\n",
        "                          optimizer=optimizer,\n",
        "                          scheduler=scheduler,\n",
        "                          save_path=\"model_weights/ast_multi_task_best.pth\")\n"
      ]
    },
    {
      "cell_type": "code",
      "execution_count": 7,
      "metadata": {
        "id": "YoRAiKqkocSU"
      },
      "outputs": [],
      "source": [
        "def plot_losses(losses, save_title, title, xlab, ylab):\n",
        "  fig = plt.figure(figsize=(5, 4))\n",
        "\n",
        "  plt.plot(losses[\"Valence Loss\"], color=\"green\", label=\"Avg Valence Loss\")\n",
        "  plt.plot(losses[\"Energy Loss\"], color=\"blue\", label=\"Avg Energy Loss\")\n",
        "  plt.plot(losses[\"Danceability Loss\"], color=\"orange\", label=\"Avg Danceability Loss\")\n",
        "  plt.plot(losses[\"Total Loss\"], color=\"red\", label=\"Avg Total Loss\")\n",
        "\n",
        "  plt.legend()\n",
        "  plt.title(title)\n",
        "  plt.xlabel(xlab)\n",
        "  plt.ylabel(ylab)\n",
        "  plt.savefig(save_title, dpi=300)\n",
        "  plt.show()\n"
      ]
    },
    {
      "cell_type": "code",
      "execution_count": 8,
      "metadata": {
        "colab": {
          "base_uri": "https://localhost:8080/",
          "height": 803
        },
        "id": "PEU9W7sIePBs",
        "outputId": "0209fbff-395a-4306-83f3-76b657c1ce18"
      },
      "outputs": [
        {
          "data": {
            "image/png": "[encoded data removed]",
            "text/plain": [
              "<Figure size 500x400 with 1 Axes>"
            ]
          },
          "metadata": {},
          "output_type": "display_data"
        },
        {
          "data": {
            "image/png": "[encoded data removed]",
            "text/plain": [
              "<Figure size 500x400 with 1 Axes>"
            ]
          },
          "metadata": {},
          "output_type": "display_data"
        }
      ],
      "source": [
        "plot_losses(losses=train_losses,\n",
        "            save_title=\"assets/multi_task_train_losses.png\",\n",
        "            title=\"Average Training Losses\", xlab=\"Epochs\", ylab=\"Average Loss\")\n",
        "\n",
        "plot_losses(losses=val_losses,\n",
        "            save_title=\"assets/multi_task_val_losses.png\",\n",
        "            title=\"Average Validation Losses\", xlab=\"Epochs\", ylab=\"Average Loss\")"
      ]
    },
    {
      "cell_type": "code",
      "execution_count": null,
      "metadata": {},
      "outputs": [],
      "source": [
        "print(\"LSTM evaluation on Mel Spectograms\")\n",
        "backbone = LSTMBackbone(mel_specs_data.feat_dim, rnn_size=RNN_HIDDEN_SIZE, num_layers=NUM_LAYERS, bidirectional=True)\n",
        "model = Classifier(NUM_CATEGORIES, backbone)\n",
        "model.load_state_dict(torch.load(\"model_weights/lstm_genre_mel.pth\", weights_only=True, map_location=DEVICE))\n",
        "mel_y_true, mel_y_pred = test_model(model, mel_specs_test_dl, DEVICE)\n",
        "get_classification_report(y_pred=np.hstack(mel_y_pred), y_true=np.hstack(mel_y_true))\n",
        "del mel_specs_train_dl, mel_specs_val_dl, mel_specs_test_data, mel_specs_test_dl"
      ]
    },
    {
      "cell_type": "code",
      "execution_count": 5,
      "metadata": {},
      "outputs": [
        {
          "ename": "TypeError",
          "evalue": "forward() takes 3 positional arguments but 4 were given",
          "output_type": "error",
          "traceback": [
            "\u001b[0;31m---------------------------------------------------------------------------\u001b[0m",
            "\u001b[0;31mTypeError\u001b[0m                                 Traceback (most recent call last)",
            "Cell \u001b[0;32mIn[5], line 12\u001b[0m\n\u001b[1;32m     10\u001b[0m model \u001b[38;5;241m=\u001b[39m MultiTaskClassifier(num_tasks\u001b[38;5;241m=\u001b[39m\u001b[38;5;241m3\u001b[39m, backbone\u001b[38;5;241m=\u001b[39mbackbone, task_feature_sizes\u001b[38;5;241m=\u001b[39m[\u001b[38;5;241m1\u001b[39m, \u001b[38;5;241m1\u001b[39m, \u001b[38;5;241m1\u001b[39m])\n\u001b[1;32m     11\u001b[0m model\u001b[38;5;241m.\u001b[39mload_state_dict(torch\u001b[38;5;241m.\u001b[39mload(\u001b[38;5;124m\"\u001b[39m\u001b[38;5;124mmodel_weights/ast_multi_task_best.pth\u001b[39m\u001b[38;5;124m\"\u001b[39m, weights_only\u001b[38;5;241m=\u001b[39m\u001b[38;5;28;01mTrue\u001b[39;00m, map_location\u001b[38;5;241m=\u001b[39mDEVICE))\n\u001b[0;32m---> 12\u001b[0m y_true, y_pred, spear_corrs, pear_corrs \u001b[38;5;241m=\u001b[39m \u001b[43mtest_model\u001b[49m\u001b[43m(\u001b[49m\u001b[43mmodel\u001b[49m\u001b[43m,\u001b[49m\u001b[43m \u001b[49m\u001b[43mval_dl\u001b[49m\u001b[43m,\u001b[49m\u001b[43m \u001b[49m\u001b[43mDEVICE\u001b[49m\u001b[43m,\u001b[49m\u001b[43m \u001b[49m\u001b[43mregression_flag\u001b[49m\u001b[38;5;241;43m=\u001b[39;49m\u001b[38;5;28;43;01mTrue\u001b[39;49;00m\u001b[43m,\u001b[49m\u001b[43m \u001b[49m\u001b[43mis_multitask\u001b[49m\u001b[38;5;241;43m=\u001b[39;49m\u001b[38;5;28;43;01mTrue\u001b[39;49;00m\u001b[43m)\u001b[49m\n",
            "File \u001b[0;32m/media/alex/AFA8-7A06/Master/First-Semester/Pattern-Recognition/2nd-Lab-Assignment/Latest2/BeatPatrol/utils.py:549\u001b[0m, in \u001b[0;36mtest_model\u001b[0;34m(model, dataloader, device, regression_flag, is_multitask)\u001b[0m\n\u001b[1;32m    547\u001b[0m \u001b[38;5;28;01mfor\u001b[39;00m x, labels, lengths \u001b[38;5;129;01min\u001b[39;00m dataloader:\n\u001b[1;32m    548\u001b[0m     \u001b[38;5;28;01mif\u001b[39;00m is_multitask:\n\u001b[0;32m--> 549\u001b[0m         _, logits \u001b[38;5;241m=\u001b[39m \u001b[43mmodel\u001b[49m\u001b[43m(\u001b[49m\u001b[43mx\u001b[49m\u001b[38;5;241;43m.\u001b[39;49m\u001b[43mfloat\u001b[49m\u001b[43m(\u001b[49m\u001b[43m)\u001b[49m\u001b[38;5;241;43m.\u001b[39;49m\u001b[43mto\u001b[49m\u001b[43m(\u001b[49m\u001b[43mdevice\u001b[49m\u001b[43m)\u001b[49m\u001b[43m,\u001b[49m\u001b[43m \u001b[49m\u001b[43mlabels\u001b[49m\u001b[38;5;241;43m.\u001b[39;49m\u001b[43mto\u001b[49m\u001b[43m(\u001b[49m\u001b[43mdevice\u001b[49m\u001b[43m)\u001b[49m\u001b[43m,\u001b[49m\u001b[43m \u001b[49m\u001b[43mlengths\u001b[49m\u001b[38;5;241;43m.\u001b[39;49m\u001b[43mto\u001b[49m\u001b[43m(\u001b[49m\u001b[43mdevice\u001b[49m\u001b[43m)\u001b[49m\u001b[43m)\u001b[49m\n\u001b[1;32m    550\u001b[0m     \u001b[38;5;28;01melse\u001b[39;00m:\n\u001b[1;32m    551\u001b[0m         _, _, logits \u001b[38;5;241m=\u001b[39m model(x\u001b[38;5;241m.\u001b[39mfloat()\u001b[38;5;241m.\u001b[39mto(device), labels\u001b[38;5;241m.\u001b[39mto(device))\n",
            "File \u001b[0;32m~/miniconda3/envs/pattrec1/lib/python3.9/site-packages/torch/nn/modules/module.py:1736\u001b[0m, in \u001b[0;36mModule._wrapped_call_impl\u001b[0;34m(self, *args, **kwargs)\u001b[0m\n\u001b[1;32m   1734\u001b[0m     \u001b[38;5;28;01mreturn\u001b[39;00m \u001b[38;5;28mself\u001b[39m\u001b[38;5;241m.\u001b[39m_compiled_call_impl(\u001b[38;5;241m*\u001b[39margs, \u001b[38;5;241m*\u001b[39m\u001b[38;5;241m*\u001b[39mkwargs)  \u001b[38;5;66;03m# type: ignore[misc]\u001b[39;00m\n\u001b[1;32m   1735\u001b[0m \u001b[38;5;28;01melse\u001b[39;00m:\n\u001b[0;32m-> 1736\u001b[0m     \u001b[38;5;28;01mreturn\u001b[39;00m \u001b[38;5;28;43mself\u001b[39;49m\u001b[38;5;241;43m.\u001b[39;49m\u001b[43m_call_impl\u001b[49m\u001b[43m(\u001b[49m\u001b[38;5;241;43m*\u001b[39;49m\u001b[43margs\u001b[49m\u001b[43m,\u001b[49m\u001b[43m \u001b[49m\u001b[38;5;241;43m*\u001b[39;49m\u001b[38;5;241;43m*\u001b[39;49m\u001b[43mkwargs\u001b[49m\u001b[43m)\u001b[49m\n",
            "File \u001b[0;32m~/miniconda3/envs/pattrec1/lib/python3.9/site-packages/torch/nn/modules/module.py:1747\u001b[0m, in \u001b[0;36mModule._call_impl\u001b[0;34m(self, *args, **kwargs)\u001b[0m\n\u001b[1;32m   1742\u001b[0m \u001b[38;5;66;03m# If we don't have any hooks, we want to skip the rest of the logic in\u001b[39;00m\n\u001b[1;32m   1743\u001b[0m \u001b[38;5;66;03m# this function, and just call forward.\u001b[39;00m\n\u001b[1;32m   1744\u001b[0m \u001b[38;5;28;01mif\u001b[39;00m \u001b[38;5;129;01mnot\u001b[39;00m (\u001b[38;5;28mself\u001b[39m\u001b[38;5;241m.\u001b[39m_backward_hooks \u001b[38;5;129;01mor\u001b[39;00m \u001b[38;5;28mself\u001b[39m\u001b[38;5;241m.\u001b[39m_backward_pre_hooks \u001b[38;5;129;01mor\u001b[39;00m \u001b[38;5;28mself\u001b[39m\u001b[38;5;241m.\u001b[39m_forward_hooks \u001b[38;5;129;01mor\u001b[39;00m \u001b[38;5;28mself\u001b[39m\u001b[38;5;241m.\u001b[39m_forward_pre_hooks\n\u001b[1;32m   1745\u001b[0m         \u001b[38;5;129;01mor\u001b[39;00m _global_backward_pre_hooks \u001b[38;5;129;01mor\u001b[39;00m _global_backward_hooks\n\u001b[1;32m   1746\u001b[0m         \u001b[38;5;129;01mor\u001b[39;00m _global_forward_hooks \u001b[38;5;129;01mor\u001b[39;00m _global_forward_pre_hooks):\n\u001b[0;32m-> 1747\u001b[0m     \u001b[38;5;28;01mreturn\u001b[39;00m \u001b[43mforward_call\u001b[49m\u001b[43m(\u001b[49m\u001b[38;5;241;43m*\u001b[39;49m\u001b[43margs\u001b[49m\u001b[43m,\u001b[49m\u001b[43m \u001b[49m\u001b[38;5;241;43m*\u001b[39;49m\u001b[38;5;241;43m*\u001b[39;49m\u001b[43mkwargs\u001b[49m\u001b[43m)\u001b[49m\n\u001b[1;32m   1749\u001b[0m result \u001b[38;5;241m=\u001b[39m \u001b[38;5;28;01mNone\u001b[39;00m\n\u001b[1;32m   1750\u001b[0m called_always_called_hooks \u001b[38;5;241m=\u001b[39m \u001b[38;5;28mset\u001b[39m()\n",
            "\u001b[0;31mTypeError\u001b[0m: forward() takes 3 positional arguments but 4 were given"
          ]
        }
      ],
      "source": [
        "backbone = ASTBackbone(\n",
        "    fstride=10,\n",
        "    tstride=10,\n",
        "    input_fdim=dancability_data[0][0].shape[1],\n",
        "    input_tdim=dancability_data[0][0].shape[0],\n",
        "    imagenet_pretrain=False,\n",
        "    model_size='tiny224',\n",
        "    feature_size=1\n",
        ")\n",
        "model = MultiTaskClassifier(num_tasks=3, backbone=backbone, task_feature_sizes=[1, 1, 1])\n",
        "model.load_state_dict(torch.load(\"model_weights/ast_multi_task_best.pth\", weights_only=True, map_location=DEVICE))\n",
        "y_true, y_pred, spear_corrs, pear_corrs = test_model(model, val_dl, DEVICE, regression_flag=True, is_multitask=True)"
      ]
    },
    {
      "cell_type": "markdown",
      "metadata": {
        "id": "umy5Tg6CoSKK"
      },
      "source": [
        "### Finetune ImageNet Pretrained Model"
      ]
    },
    {
      "cell_type": "code",
      "execution_count": 9,
      "metadata": {
        "colab": {
          "base_uri": "https://localhost:8080/"
        },
        "id": "hIAl1cMfePBt",
        "outputId": "537b4ba9-9926-4400-f676-9d195ead55ef"
      },
      "outputs": [
        {
          "name": "stderr",
          "output_type": "stream",
          "text": [
            "Downloading: \"https://dl.fbaipublicfiles.com/deit/deit_tiny_distilled_patch16_224-b40b3cf7.pth\" to /root/.cache/torch/hub/checkpoints/deit_tiny_distilled_patch16_224-b40b3cf7.pth\n"
          ]
        },
        {
          "name": "stdout",
          "output_type": "stream",
          "text": [
            "Training started for model model_weights/ast_multi_task_best_pre...\n"
          ]
        },
        {
          "name": "stderr",
          "output_type": "stream",
          "text": [
            "100%|██████████| 113/113 [01:01<00:00,  1.83it/s]\n"
          ]
        },
        {
          "name": "stdout",
          "output_type": "stream",
          "text": [
            "Epoch 1\n",
            "Training Metrics\n",
            "\t\tAverage Total Loss:  0.73\n",
            "\t\tAverage Valence Loss:  0.51\n",
            "\t\tAverage Energy Loss:  0.13\n",
            "\t\tAverage Danceability Loss:  0.09\n",
            "Evaluation Metrics\n",
            "\t\tAverage Total Loss:  0.16\n",
            "\t\tAverage Valence Loss:  0.06\n",
            "\t\tAverage Energy Loss:  0.07\n",
            "\t\tAverage Danceability Loss:  0.03\n"
          ]
        },
        {
          "name": "stderr",
          "output_type": "stream",
          "text": [
            "100%|██████████| 113/113 [01:01<00:00,  1.83it/s]\n"
          ]
        },
        {
          "name": "stdout",
          "output_type": "stream",
          "text": [
            "Epoch 2\n",
            "Training Metrics\n",
            "\t\tAverage Total Loss:  0.18\n",
            "\t\tAverage Valence Loss:  0.08\n",
            "\t\tAverage Energy Loss:  0.07\n",
            "\t\tAverage Danceability Loss:  0.03\n",
            "Evaluation Metrics\n",
            "\t\tAverage Total Loss:  0.16\n",
            "\t\tAverage Valence Loss:  0.06\n",
            "\t\tAverage Energy Loss:  0.07\n",
            "\t\tAverage Danceability Loss:  0.03\n"
          ]
        },
        {
          "name": "stderr",
          "output_type": "stream",
          "text": [
            "100%|██████████| 113/113 [01:01<00:00,  1.84it/s]\n"
          ]
        },
        {
          "name": "stdout",
          "output_type": "stream",
          "text": [
            "Epoch 3\n",
            "Training Metrics\n",
            "\t\tAverage Total Loss:  0.17\n",
            "\t\tAverage Valence Loss:  0.07\n",
            "\t\tAverage Energy Loss:  0.07\n",
            "\t\tAverage Danceability Loss:  0.03\n",
            "Evaluation Metrics\n",
            "\t\tAverage Total Loss:  0.16\n",
            "\t\tAverage Valence Loss:  0.07\n",
            "\t\tAverage Energy Loss:  0.07\n",
            "\t\tAverage Danceability Loss:  0.03\n"
          ]
        },
        {
          "name": "stderr",
          "output_type": "stream",
          "text": [
            "100%|██████████| 113/113 [01:01<00:00,  1.84it/s]\n"
          ]
        },
        {
          "name": "stdout",
          "output_type": "stream",
          "text": [
            "Epoch 4\n",
            "Training Metrics\n",
            "\t\tAverage Total Loss:  0.17\n",
            "\t\tAverage Valence Loss:  0.07\n",
            "\t\tAverage Energy Loss:  0.07\n",
            "\t\tAverage Danceability Loss:  0.03\n",
            "Evaluation Metrics\n",
            "\t\tAverage Total Loss:  0.16\n",
            "\t\tAverage Valence Loss:  0.06\n",
            "\t\tAverage Energy Loss:  0.07\n",
            "\t\tAverage Danceability Loss:  0.03\n"
          ]
        },
        {
          "name": "stderr",
          "output_type": "stream",
          "text": [
            "100%|██████████| 113/113 [01:01<00:00,  1.83it/s]\n"
          ]
        },
        {
          "name": "stdout",
          "output_type": "stream",
          "text": [
            "Epoch 5\n",
            "Training Metrics\n",
            "\t\tAverage Total Loss:  0.17\n",
            "\t\tAverage Valence Loss:  0.07\n",
            "\t\tAverage Energy Loss:  0.07\n",
            "\t\tAverage Danceability Loss:  0.03\n",
            "Evaluation Metrics\n",
            "\t\tAverage Total Loss:  0.17\n",
            "\t\tAverage Valence Loss:  0.07\n",
            "\t\tAverage Energy Loss:  0.07\n",
            "\t\tAverage Danceability Loss:  0.03\n"
          ]
        },
        {
          "name": "stderr",
          "output_type": "stream",
          "text": [
            "100%|██████████| 113/113 [01:01<00:00,  1.83it/s]\n"
          ]
        },
        {
          "name": "stdout",
          "output_type": "stream",
          "text": [
            "Epoch 6\n",
            "Training Metrics\n",
            "\t\tAverage Total Loss:  0.17\n",
            "\t\tAverage Valence Loss:  0.07\n",
            "\t\tAverage Energy Loss:  0.07\n",
            "\t\tAverage Danceability Loss:  0.03\n",
            "Evaluation Metrics\n",
            "\t\tAverage Total Loss:  0.15\n",
            "\t\tAverage Valence Loss:  0.06\n",
            "\t\tAverage Energy Loss:  0.07\n",
            "\t\tAverage Danceability Loss:  0.03\n"
          ]
        },
        {
          "name": "stderr",
          "output_type": "stream",
          "text": [
            "100%|██████████| 113/113 [01:01<00:00,  1.83it/s]\n"
          ]
        },
        {
          "name": "stdout",
          "output_type": "stream",
          "text": [
            "Epoch 7\n",
            "Training Metrics\n",
            "\t\tAverage Total Loss:  0.17\n",
            "\t\tAverage Valence Loss:  0.07\n",
            "\t\tAverage Energy Loss:  0.07\n",
            "\t\tAverage Danceability Loss:  0.03\n",
            "Evaluation Metrics\n",
            "\t\tAverage Total Loss:  0.16\n",
            "\t\tAverage Valence Loss:  0.06\n",
            "\t\tAverage Energy Loss:  0.07\n",
            "\t\tAverage Danceability Loss:  0.03\n"
          ]
        },
        {
          "name": "stderr",
          "output_type": "stream",
          "text": [
            "100%|██████████| 113/113 [01:01<00:00,  1.83it/s]\n"
          ]
        },
        {
          "name": "stdout",
          "output_type": "stream",
          "text": [
            "Epoch 8\n",
            "Training Metrics\n",
            "\t\tAverage Total Loss:  0.17\n",
            "\t\tAverage Valence Loss:  0.07\n",
            "\t\tAverage Energy Loss:  0.07\n",
            "\t\tAverage Danceability Loss:  0.03\n",
            "Evaluation Metrics\n",
            "\t\tAverage Total Loss:  0.16\n",
            "\t\tAverage Valence Loss:  0.06\n",
            "\t\tAverage Energy Loss:  0.07\n",
            "\t\tAverage Danceability Loss:  0.03\n"
          ]
        },
        {
          "name": "stderr",
          "output_type": "stream",
          "text": [
            "100%|██████████| 113/113 [01:01<00:00,  1.83it/s]\n"
          ]
        },
        {
          "name": "stdout",
          "output_type": "stream",
          "text": [
            "Epoch 9\n",
            "Training Metrics\n",
            "\t\tAverage Total Loss:  0.17\n",
            "\t\tAverage Valence Loss:  0.07\n",
            "\t\tAverage Energy Loss:  0.07\n",
            "\t\tAverage Danceability Loss:  0.03\n",
            "Evaluation Metrics\n",
            "\t\tAverage Total Loss:  0.16\n",
            "\t\tAverage Valence Loss:  0.06\n",
            "\t\tAverage Energy Loss:  0.07\n",
            "\t\tAverage Danceability Loss:  0.03\n"
          ]
        },
        {
          "name": "stderr",
          "output_type": "stream",
          "text": [
            "100%|██████████| 113/113 [01:01<00:00,  1.83it/s]\n"
          ]
        },
        {
          "name": "stdout",
          "output_type": "stream",
          "text": [
            "Epoch 10\n",
            "Training Metrics\n",
            "\t\tAverage Total Loss:  0.17\n",
            "\t\tAverage Valence Loss:  0.07\n",
            "\t\tAverage Energy Loss:  0.07\n",
            "\t\tAverage Danceability Loss:  0.03\n",
            "Evaluation Metrics\n",
            "\t\tAverage Total Loss:  0.16\n",
            "\t\tAverage Valence Loss:  0.06\n",
            "\t\tAverage Energy Loss:  0.07\n",
            "\t\tAverage Danceability Loss:  0.03\n"
          ]
        },
        {
          "name": "stderr",
          "output_type": "stream",
          "text": [
            "100%|██████████| 113/113 [01:01<00:00,  1.83it/s]\n"
          ]
        },
        {
          "name": "stdout",
          "output_type": "stream",
          "text": [
            "Epoch 11\n",
            "Training Metrics\n",
            "\t\tAverage Total Loss:  0.17\n",
            "\t\tAverage Valence Loss:  0.07\n",
            "\t\tAverage Energy Loss:  0.07\n",
            "\t\tAverage Danceability Loss:  0.03\n",
            "Evaluation Metrics\n",
            "\t\tAverage Total Loss:  0.15\n",
            "\t\tAverage Valence Loss:  0.06\n",
            "\t\tAverage Energy Loss:  0.07\n",
            "\t\tAverage Danceability Loss:  0.03\n",
            "Early Stopping was activated.\n",
            "Training has been completed.\n",
            "\n"
          ]
        }
      ],
      "source": [
        "set_seed(RANDOM_SEED)\n",
        "backbone = ASTBackbone(\n",
        "    fstride=10,\n",
        "    tstride=10,\n",
        "    input_fdim=dancability_data[0][0].shape[1],\n",
        "    input_tdim=dancability_data[0][0].shape[0],\n",
        "    imagenet_pretrain=True,\n",
        "    model_size='tiny224',\n",
        "    feature_size=1\n",
        ")\n",
        "\n",
        "set_seed(RANDOM_SEED)\n",
        "model = MultiTaskClassifier(num_tasks=3, backbone=backbone, task_feature_sizes=[1, 1, 1])\n",
        "\n",
        "optimizer = torch.optim.Adam(model.parameters(), lr=LR)\n",
        "scheduler = torch.optim.lr_scheduler.CosineAnnealingLR(optimizer, T_max=EPOCHS, eta_min=1e-10)\n",
        "\n",
        "train_losses, val_losses = train_multi_task_learning(epochs=EPOCHS,\n",
        "                          device=DEVICE,\n",
        "                          train_dl=train_dl,\n",
        "                          val_dl=val_dl,\n",
        "                          model=model,\n",
        "                          optimizer=optimizer,\n",
        "                          scheduler=scheduler,\n",
        "                          save_path=\"model_weights/ast_multi_task_best_pre.pth\")\n"
      ]
    },
    {
      "cell_type": "code",
      "execution_count": 10,
      "metadata": {
        "colab": {
          "base_uri": "https://localhost:8080/",
          "height": 803
        },
        "id": "aVm41a8Lqhlp",
        "outputId": "1e1f54c1-3e44-445f-f31b-469d53a1c424"
      },
      "outputs": [
        {
          "data": {
            "image/png": "[encoded data removed]",
            "text/plain": [
              "<Figure size 500x400 with 1 Axes>"
            ]
          },
          "metadata": {},
          "output_type": "display_data"
        },
        {
          "data": {
            "image/png": "[encoded data removed]",
            "text/plain": [
              "<Figure size 500x400 with 1 Axes>"
            ]
          },
          "metadata": {},
          "output_type": "display_data"
        }
      ],
      "source": [
        "plot_losses(losses=train_losses,\n",
        "            save_title=\"assets/multi_task_train_losses_pre.png\",\n",
        "            title=\"Average Training Losses\", xlab=\"Epochs\", ylab=\"Average Loss\")\n",
        "\n",
        "plot_losses(losses=val_losses,\n",
        "            save_title=\"assets/multi_task_val_losses_pre.png\",\n",
        "            title=\"Average Validation Losses\", xlab=\"Epochs\", ylab=\"Average Loss\")"
      ]
    }
  ],
  "metadata": {
    "accelerator": "GPU",
    "colab": {
      "gpuType": "T4",
      "provenance": []
    },
    "kernelspec": {
      "display_name": "Python 3",
      "name": "python3"
    },
    "language_info": {
      "codemirror_mode": {
        "name": "ipython",
        "version": 3
      },
      "file_extension": ".py",
      "mimetype": "text/x-python",
      "name": "python",
      "nbconvert_exporter": "python",
      "pygments_lexer": "ipython3",
      "version": "3.9.20"
    }
  },
  "nbformat": 4,
  "nbformat_minor": 0
}
